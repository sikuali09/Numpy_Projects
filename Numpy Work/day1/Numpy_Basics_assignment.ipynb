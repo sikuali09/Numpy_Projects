{
  "nbformat": 4,
  "nbformat_minor": 0,
  "metadata": {
    "colab": {
      "provenance": []
    },
    "kernelspec": {
      "name": "python3",
      "display_name": "Python 3"
    },
    "language_info": {
      "name": "python"
    }
  },
  "cells": [
    {
      "cell_type": "code",
      "execution_count": null,
      "metadata": {
        "id": "YAvC8k1FKC6i"
      },
      "outputs": [],
      "source": [
        "import numpy as np"
      ]
    },
    {
      "cell_type": "markdown",
      "source": [
        "### Basic Array Creation"
      ],
      "metadata": {
        "id": "z-ttfWOCWYAD"
      }
    },
    {
      "cell_type": "markdown",
      "source": [
        "# Creatation of List\n",
        "How to create Lists in python?"
      ],
      "metadata": {
        "id": "ZksDKlwjHvFV"
      }
    },
    {
      "cell_type": "code",
      "source": [
        "List1 = [1,2,3,4,5]\n",
        "print(List1)"
      ],
      "metadata": {
        "id": "mCgQsxXkF3nb",
        "colab": {
          "base_uri": "https://localhost:8080/"
        },
        "outputId": "aa5d934e-2656-4d26-94b3-fa80c29060c0"
      },
      "execution_count": null,
      "outputs": [
        {
          "output_type": "stream",
          "name": "stdout",
          "text": [
            "[1, 2, 3, 4, 5]\n"
          ]
        }
      ]
    },
    {
      "cell_type": "markdown",
      "source": [
        "# Type\n",
        "Accuire type of list in python."
      ],
      "metadata": {
        "id": "EUmihvpDIAzW"
      }
    },
    {
      "cell_type": "code",
      "source": [
        "type(List1)"
      ],
      "metadata": {
        "id": "Aw_RtHvuRkDi",
        "colab": {
          "base_uri": "https://localhost:8080/"
        },
        "outputId": "14674685-a3ff-4892-908d-2da5b604b6ef"
      },
      "execution_count": null,
      "outputs": [
        {
          "output_type": "execute_result",
          "data": {
            "text/plain": [
              "list"
            ]
          },
          "metadata": {},
          "execution_count": 8
        }
      ]
    },
    {
      "cell_type": "markdown",
      "source": [
        "# Creatation of Arrays\n",
        "1.Simple array creation\n",
        "\n",
        "2.Checking array \"TYPE\"\n",
        "\n",
        "3.Numeric \"TYPE\" of array elements\n",
        "\n",
        "4.Array dim\n",
        "\n",
        "5.Array Shape\n",
        "\n",
        "6.Bytes per element\n",
        "\n",
        "7.BYTES OF MEMORY USED, How many bytes for one array element\n",
        "\n",
        "8.Total bytes in an Array"
      ],
      "metadata": {
        "id": "M2TOiuioIc6M"
      }
    },
    {
      "cell_type": "code",
      "source": [
        "arr=np.array([0,1,2,3,4])\n",
        "print(\"Array:\",arr)\n",
        "print(\"Type of Array:\",arr.dtype)\n",
        "print(\"Type of Array:\",type(arr))\n",
        "print(\"Dimension of Array:\",arr.ndim)\n",
        "print(\"Shape of Array:\",arr.shape)\n",
        "print(\"Bytes per element\",arr.itemsize)\n",
        "print(\"Total bytes in an Array\",arr.nbytes)"
      ],
      "metadata": {
        "id": "uy_hPIW4A4uM",
        "colab": {
          "base_uri": "https://localhost:8080/"
        },
        "outputId": "21b0c4ac-de95-49c1-824e-a3f81d24595d"
      },
      "execution_count": null,
      "outputs": [
        {
          "output_type": "stream",
          "name": "stdout",
          "text": [
            "Array: [0 1 2 3 4]\n",
            "Type of Array: int64\n",
            "Type of Array: <class 'numpy.ndarray'>\n",
            "Dimension of Array: 1\n",
            "Shape of Array: (5,)\n",
            "Bytes per element 8\n",
            "Total bytes in an Array 40\n"
          ]
        }
      ]
    },
    {
      "cell_type": "code",
      "source": [
        "arr=np.array([0.1,1.2,2.3,3.2,4.5])\n",
        "print(\"Array:\",arr)\n",
        "print(\"Type of Array:\",arr.dtype)\n",
        "print(\"Type of Array:\",type(arr))\n",
        "print(\"Dimension of Array:\",arr.ndim)\n",
        "print(\"Shape of Array:\",arr.shape)\n",
        "print(\"Bytes per element\",arr.itemsize)\n",
        "print(\"Total bytes in an Array\",arr.nbytes)"
      ],
      "metadata": {
        "id": "tf9pmYpYLuEu",
        "colab": {
          "base_uri": "https://localhost:8080/"
        },
        "outputId": "da19e533-6fba-488e-d32e-f87cc220594d"
      },
      "execution_count": null,
      "outputs": [
        {
          "output_type": "stream",
          "name": "stdout",
          "text": [
            "Array: [0.1 1.2 2.3 3.2 4.5]\n",
            "Type of Array: float64\n",
            "Type of Array: <class 'numpy.ndarray'>\n",
            "Dimension of Array: 1\n",
            "Shape of Array: (5,)\n",
            "Bytes per element 8\n",
            "Total bytes in an Array 40\n"
          ]
        }
      ]
    },
    {
      "cell_type": "markdown",
      "source": [
        "9.Try to assign a float into an int32\n",
        "\n",
        "10.Use .fill function # fill has the same behavior\n"
      ],
      "metadata": {
        "id": "czi-ntWzFJ0M"
      }
    },
    {
      "cell_type": "code",
      "source": [
        "arr=np.array([0,1,2,3,4])\n",
        "arr[2]=6.78\n",
        "print(arr)\n",
        "\n",
        "arr.fill(6.78)\n",
        "print(arr)"
      ],
      "metadata": {
        "id": "5r2iCLhHFq_-",
        "colab": {
          "base_uri": "https://localhost:8080/"
        },
        "outputId": "9dcea91a-337a-4d5a-b0f2-593cec85a2d4"
      },
      "execution_count": null,
      "outputs": [
        {
          "output_type": "stream",
          "name": "stdout",
          "text": [
            "[0 1 6 3 4]\n",
            "[6 6 6 6 6]\n"
          ]
        }
      ]
    },
    {
      "cell_type": "markdown",
      "source": [
        "11.Add two  arrays\n",
        "\n",
        "12.Multiple both arrays\n",
        "\n",
        "13.Use ** operator in array operation\n",
        "\n",
        "14.Create array from 0.0 to 11.0\n",
        "\n",
        "15.Multiply entire array with a scalar value\n",
        " c = (2.0 * np.pi)\n",
        "\n",
        "16.Use np.arrange function to create an array with step of 0.5 from 1.0 to 3.0"
      ],
      "metadata": {
        "id": "UK4-Grt0F8_k"
      }
    },
    {
      "cell_type": "code",
      "source": [
        "a=np.array([1,2,3,4,5])\n",
        "b=np.array([1,2,3,4,5])\n",
        "print(\"Add two Arrays,\",a+b)\n",
        "print(\"Multiply two Arrays:\",a*b)\n",
        "print(\"Sqr of an Array:\",a**b)\n",
        "\n",
        "#Creating an Array\n",
        "arr1=np.arange(0.0,11.0)\n",
        "print(\"create an array\",arr1)\n",
        "\n",
        "#Multiply entire array with a scalar value\n",
        "c = (2.0 * np.pi)\n",
        "arr2=c*arr1\n",
        "print(\"multiply entire array\",arr2)\n",
        "\n",
        "#Use np.arrange function to create an array with step of 0.5 from 1.0 to 3.0\n",
        "arr3=np.arange(1.0,3.0,0.5)\n",
        "print(\"Create an Array with 0.5 step\",arr3)\n",
        "\n"
      ],
      "metadata": {
        "id": "1cRgGYTdGayU",
        "colab": {
          "base_uri": "https://localhost:8080/"
        },
        "outputId": "49ef9048-86d8-4fe1-d874-dff3f0d81287"
      },
      "execution_count": 10,
      "outputs": [
        {
          "output_type": "stream",
          "name": "stdout",
          "text": [
            "Add two Arrays, [ 2  4  6  8 10]\n",
            "Multiply two Arrays: [ 1  4  9 16 25]\n",
            "Sqr of an Array: [   1    4   27  256 3125]\n",
            "create an array [ 0.  1.  2.  3.  4.  5.  6.  7.  8.  9. 10.]\n",
            "multiply entire array [ 0.          6.28318531 12.56637061 18.84955592 25.13274123 31.41592654\n",
            " 37.69911184 43.98229715 50.26548246 56.54866776 62.83185307]\n",
            "Create an Array with 0.5 step [1.  1.5 2.  2.5]\n"
          ]
        }
      ]
    },
    {
      "cell_type": "markdown",
      "source": [
        "# Slicing\n",
        "var[lower:upper:step]\n",
        "• Extracts a portion of a sequence by specifying a lower and upper bound.\n",
        "\n",
        "• The lower-bound element is included, but the upper-bound element is not included.\n",
        "\n",
        "• Mathematically: [lower, upper). The step value specifies the stride between elements.\n",
        "\n",
        "1. Etract array indices from 1 to 3:\n",
        "2. Use negative indices as well\n",
        "3. Omitted boundaries are assumed to be the beginning (or end) of the array grab first three elements\n",
        "4. Grab last two elements\n",
        "5. Grab every other element\n",
        "6. slicing the last two elements returns the data there\n",
        "7. Can we insert an iterable of length two? or a scalar value\n",
        "8.Arrays created by slicing share data with the originating array. Changing values in a slice also changes the original array.\n",
        "For example create a slice containing two elements of a changing b changed a! Have an experiment\n",
        "9. if an array a = [[0, 1, 2, 3, 4],[1, 2, 3, 4, 5]] extract values from row 3 to onward and from col 0, 2 and 5\n",
        "10. Perform some masking on a = np.arange(0,36).reshape(6,6)\n",
        "with mask = np.array([1, 0, 1, 0, 0, 1])\n"
      ],
      "metadata": {
        "id": "60fA9aHmI0g_"
      }
    },
    {
      "cell_type": "code",
      "source": [
        "import numpy as np\n",
        "\n",
        "# Extract array indices from 1 to 3:\n",
        "arr = np.array([0, 1, 2, 3, 4, 5, 6, 7, 8, 9])\n",
        "print(\"Array Extraction\",arr[1:3])\n",
        "\n",
        "# Use negative indices as well\n",
        "print(\"Negative Indices\",arr[-9:-7])\n",
        "\n",
        "# Omitted boundaries are assumed to be the beginning (or end) of the array grab first three elements\n",
        "print(\"Omitted Boundaries\")\n",
        "print(arr[:3])\n",
        "print(arr[3:])\n",
        "print(arr[-3:])\n",
        "\n",
        "# Grab first three elements\n",
        "print(\"1st 3 elements\",arr[:3])\n",
        "\n",
        "# Grab last two elements\n",
        "print(\"last 2 elements\",arr[-2:])\n",
        "\n",
        "# Grab every other element\n",
        "print(\"Grab other elements\",arr[::2])\n",
        "\n",
        "# slicing the last two elements returns the data there\n",
        "print(\"Slice the last two elements\",arr[-2:])\n",
        "\n",
        "#Can we insert an iterable of length two? or a scalar value\n",
        "print(\"Yes,we can insert an iterable of length two or a scalar value into various data structures like lists, tuples, dictionaries, and sets.\"\n",
        "      \"but the list are mutable ordered sequence can accept both iterables of length two and scalar values as elements.\")\n",
        "#For example:\n",
        "\n",
        "#creat a list with 2 values\n",
        "my_list=[1,2]\n",
        "#insert an iterable of length two\n",
        "my_list.insert(1, [3, 4])\n",
        "print(my_list)\n",
        "\n",
        "#insert a scalar value\n",
        "my_list.insert(2, 5)\n",
        "print(my_list)\n",
        "\n",
        "\n",
        "# Arrays created by slicing share data with the originating array. Changing values in a slice also changes the original array.\n",
        "# For example create a slice containing two elements of a changing b changed a! Have an experiment\n",
        "\n",
        "#Creating a new array\n",
        "a = np.array([0, 1, 2, 3, 4, 5, 6, 7, 8, 9])\n",
        "sliced_list = a[3:5]\n",
        "print(\"sliced list\",sliced_list)\n",
        "\n",
        "#change value in sliced list\n",
        "sliced_list[0] = 100\n",
        "print(\"sliced list after change in index\",sliced_list)\n",
        "print(\"after change in index\",a)\n",
        "\n",
        "# if an array a = [[0, 1, 2, 3, 4],[1, 2, 3, 4, 5]] extract values from row 3 to onward and from col 0, 2 and 5\n",
        "a = np.array([[0, 1, 2, 3, 4],[1, 2, 3, 4, 5]])\n",
        "#print extracted rows\n",
        "print(\"extract_rows\",a[:2])\n",
        "#print extracted columns values from row 3\n",
        "print(\"extract_cols\",a[:,[0,2,4]])\n",
        "\n",
        "# Perform some masking on a = np.arange(0,36).reshape(6,6)\n",
        "# with mask = np.array([1, 0, 1, 0, 0, 1])\n",
        "mask = np.array([1, 0, 1, 0, 0, 1])\n",
        "a = np.arange(0,36).reshape(6,6)\n",
        "print(\"mask array\",a[mask, :])\n"
      ],
      "metadata": {
        "id": "nYAyP7kdz1LY",
        "colab": {
          "base_uri": "https://localhost:8080/"
        },
        "outputId": "c314bdd6-50db-4c30-ae87-e945d23febe2"
      },
      "execution_count": 8,
      "outputs": [
        {
          "output_type": "stream",
          "name": "stdout",
          "text": [
            "Array Extraction [1 2]\n",
            "Negative Indices [1 2]\n",
            "Omitted Boundaries\n",
            "[0 1 2]\n",
            "[3 4 5 6 7 8 9]\n",
            "[7 8 9]\n",
            "1st 3 elements [0 1 2]\n",
            "last 2 elements [8 9]\n",
            "Grab other elements [0 2 4 6 8]\n",
            "Slice the last two elements [8 9]\n",
            "Yes,we can insert an iterable of length two or a scalar value into various data structures like lists, tuples, dictionaries, and sets.but the list are mutable ordered sequence can accept both iterables of length two and scalar values as elements.\n",
            "[1, [3, 4], 2]\n",
            "[1, [3, 4], 5, 2]\n",
            "sliced list [3 4]\n",
            "sliced list after change in index [100   4]\n",
            "after change in index [  0   1   2 100   4   5   6   7   8   9]\n",
            "extract_rows [[0 1 2 3 4]\n",
            " [1 2 3 4 5]]\n",
            "extract_cols [[0 2 4]\n",
            " [1 3 5]]\n",
            "mask array [[ 6  7  8  9 10 11]\n",
            " [ 0  1  2  3  4  5]\n",
            " [ 6  7  8  9 10 11]\n",
            " [ 0  1  2  3  4  5]\n",
            " [ 0  1  2  3  4  5]\n",
            " [ 6  7  8  9 10 11]]\n"
          ]
        }
      ]
    },
    {
      "cell_type": "markdown",
      "source": [
        "# Array Functions\n",
        "1.Arange([start,] stop[, step],dtype=None)\n",
        "Nearly identical to Python’s range(). Creates an array of values in the range [start,stop) with the specified step value. Allows non-integer values for start, stop, and step. Default dtype is derived from the start, stop, and step values. create an array with arange.\n",
        "\n",
        "2.Create arrays with ONES, ZEROS, shape is a number or sequence specifying the dimensions of the array. If dtype is not specified, it defaults to float64.\n",
        "\n",
        "3.Generate an n by n identity array. The default dtype is float64.\n",
        "\n",
        "4.use empty, full, and fill, max, min, std, mean, var, argmax, linspace\n",
        "\n",
        "5.\n",
        "\n",
        "  Rule 1:\n",
        "  Operations between multiple array objects are first checked for proper shape match.\n",
        "\n",
        "  Rule 2:\n",
        "  Mathematical operators (+ - * / exp, log, ...) apply element by element, on the values.\n",
        "\n",
        "  Rule 3:\n",
        "  Reduction operations (mean, std, skew, kurt, sum, prod, ...) apply to the whole array, unless an axis is specified.\n",
        "\n",
        "  Rule 4:\n",
        "  Missing values propagate unless explicitly ignored (nanmean, nansum, ...).\n",
        "\n",
        "6.\n",
        "Create the array below with\n",
        "                  a = np.arange(-15, 15).reshape(5, 6) ** 2\n",
        "1. The maximum of each row\n",
        "2. The mean of each column\n",
        "3. The position of the overall minimum\n"
      ],
      "metadata": {
        "id": "WSHrRcoQN0Mu"
      }
    },
    {
      "cell_type": "code",
      "source": [],
      "metadata": {
        "id": "-JEUK-2BU_L2"
      },
      "execution_count": null,
      "outputs": []
    },
    {
      "cell_type": "markdown",
      "source": [
        "### Zip Operations on Numpy Arrays\n",
        "Use a zip function on two arrys.\n",
        "\n",
        "Create another array which would be the sum of corresponding elements of two arrays using for loop."
      ],
      "metadata": {
        "id": "uO-B0OXYWl7A"
      }
    },
    {
      "cell_type": "code",
      "source": [
        "a = [1, 2, 3, 4]\n",
        "b = [2, 3, 4, 5]\n",
        "\n",
        "# Answer Here"
      ],
      "metadata": {
        "id": "QWAhbiOXHEc9"
      },
      "execution_count": null,
      "outputs": []
    },
    {
      "cell_type": "code",
      "source": [
        "#For loop to add corresponding elements in two lists\n",
        "\n",
        "# Answer Here"
      ],
      "metadata": {
        "id": "ePXox_XHMQTr"
      },
      "execution_count": null,
      "outputs": []
    }
  ]
}