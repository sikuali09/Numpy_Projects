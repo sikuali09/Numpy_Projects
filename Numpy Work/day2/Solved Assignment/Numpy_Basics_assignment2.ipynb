{
  "cells": [
    {
      "cell_type": "markdown",
      "metadata": {
        "id": "YmwKgUrAkbfG"
      },
      "source": [
        "# Numpy Basics Exercises\n",
        "\n",
        "Please complete the following exercises **using numpy only**."
      ]
    },
    {
      "cell_type": "markdown",
      "metadata": {
        "id": "oWtZzrvXjxVl"
      },
      "source": [
        "# Array Broadcasting\n",
        "NumPy arrays of different dimensionality can be combined in the same expression. Arrays with smaller dimension are broadcasted to match the larger arrays, without copying data.\n",
        "\n",
        "Broadcasting has two rules.\n",
        "\n",
        "RULE 1: PREPEND ONES TO SMALLER ARRAY'S SHAPE\n",
        "\n",
        "RULE 2: DIMENSIONS OF SIZE 1 ARE REPEATED WITHOUT COPYING"
      ]
    },
    {
      "cell_type": "code",
      "execution_count": null,
      "metadata": {
        "colab": {
          "base_uri": "https://localhost:8080/"
        },
        "id": "7vrTvmEWjwtY",
        "outputId": "cca2e50a-6523-4dc6-b82f-1bd4ed29a64c"
      },
      "outputs": [
        {
          "name": "stdout",
          "output_type": "stream",
          "text": [
            "part1: [[5 6 7]\n",
            " [6 7 8]\n",
            " [7 8 9]]\n",
            "part2: [[4 5 6]]\n"
          ]
        }
      ],
      "source": [
        "import numpy as np\n",
        "#Prepend ones to smaller array's shape.\n",
        "a=np.array([1,2,3])\n",
        "b=np.array([[4],[5],[6]])\n",
        "print(\"part1:\",a+b)\n",
        "\n",
        "#Dimension of size 1 are repeated without copying\n",
        "a=np.array([[1]])\n",
        "b=np.array([4,5,6])\n",
        "print(\"part2:\",a*b)"
      ]
    },
    {
      "cell_type": "markdown",
      "metadata": {
        "id": "Qp9UkMByj5Il"
      },
      "source": [
        "1.Use reduce() operation on an array to reduec it into a single meaningful value. You. can also use a specific axis to apply reduce operation.\n",
        "\n",
        "2.accumulate() creates a new array containing the intermediate results of the reduce operation at each element in a.\n"
      ]
    },
    {
      "cell_type": "code",
      "execution_count": null,
      "metadata": {
        "colab": {
          "background_save": true,
          "base_uri": "https://localhost:8080/"
        },
        "id": "nmLsvmTZj626",
        "outputId": "abc3a01b-b188-4990-992f-74c811d20241"
      },
      "outputs": [
        {
          "name": "stdout",
          "output_type": "stream",
          "text": [
            "[5 7 9]\n",
            "[5 7 9]\n",
            "[ 6 15]\n",
            "[ 1  3  6 10]\n",
            "[[1 2 3]\n",
            " [5 7 9]]\n"
          ]
        }
      ],
      "source": [
        "#Using reduce() operation on an array\n",
        "a=np.array([[1,2,3],[4,5,6]])\n",
        "print(np.add.reduce(a))\n",
        "print(np.add.reduce(a,axis=0))\n",
        "print(np.add.reduce(a,axis=1))\n",
        "\n",
        "#Using accumulate()\n",
        "a=np.array([1,2,3,4])\n",
        "print(np.add.accumulate(a))\n",
        "a=np.array([[1,2,3],[4,5,6]])\n",
        "print(np.add.accumulate(a))"
      ]
    },
    {
      "cell_type": "markdown",
      "metadata": {
        "id": "Oork_pTdXsin"
      },
      "source": [
        "### Create a 2-D array where the first row goes from 10 to 80 exclusive with steps of 5 and 2nd row goes from 5 to 47 exclusive with steps of 3"
      ]
    },
    {
      "cell_type": "code",
      "execution_count": 22,
      "metadata": {
        "colab": {
          "base_uri": "https://localhost:8080/"
        },
        "id": "JJs0sRQ7YKgF",
        "outputId": "3fbbd907-a47a-4510-9de2-68f9b8df7365"
      },
      "outputs": [
        {
          "output_type": "stream",
          "name": "stdout",
          "text": [
            "first_row [10 15 20 25 30 35 40 45 50 55 60 65 70 75]\n",
            "second_row [ 5  8 11 14 17 20 23 26 29 32 35 38 41 44]\n",
            "combined_array [[10 15 20 25 30 35 40 45 50 55 60 65 70 75]\n",
            " [ 5  8 11 14 17 20 23 26 29 32 35 38 41 44]]\n"
          ]
        }
      ],
      "source": [
        "first_row=np.arange(10,80,5)\n",
        "print(\"first_row\", first_row)\n",
        "second_row=np.arange(5,47,3)\n",
        "print(\"second_row\", second_row)\n",
        "combined_array=np.array((first_row,second_row))\n",
        "print(\"combined_array\", combined_array)"
      ]
    },
    {
      "cell_type": "markdown",
      "metadata": {
        "id": "eBGU-aEqYM16"
      },
      "source": [
        "### Now use indexing to select the 5th 7th and 11th columns"
      ]
    },
    {
      "cell_type": "code",
      "execution_count": 23,
      "metadata": {
        "colab": {
          "base_uri": "https://localhost:8080/"
        },
        "id": "7UBUoTRU9Mlm",
        "outputId": "8bcc13e6-3b8b-4fc5-b26e-8beade9b545a"
      },
      "outputs": [
        {
          "output_type": "stream",
          "name": "stdout",
          "text": [
            "[[30 40 60]\n",
            " [17 23 35]]\n"
          ]
        }
      ],
      "source": [
        "selected_columns=combined_array[:,[4,6,10]]\n",
        "print(selected_columns)"
      ]
    },
    {
      "cell_type": "markdown",
      "metadata": {
        "id": "wu3J-12UZl2I"
      },
      "source": [
        "### Select the 2nd row and fourth-last to second-last columns"
      ]
    },
    {
      "cell_type": "code",
      "execution_count": 24,
      "metadata": {
        "colab": {
          "base_uri": "https://localhost:8080/"
        },
        "id": "YPAaA_BKZl-N",
        "outputId": "548c1282-e28d-4a8f-f010-0032de42b6c5"
      },
      "outputs": [
        {
          "output_type": "stream",
          "name": "stdout",
          "text": [
            "[35 38 41]\n"
          ]
        }
      ],
      "source": [
        "selected_row=combined_array[1,-4:-1]\n",
        "print(selected_row)"
      ]
    },
    {
      "cell_type": "markdown",
      "metadata": {
        "id": "kCgDP3J_ZmF8"
      },
      "source": [
        "### Select 3rd to 3rd last columns skipping every second column"
      ]
    },
    {
      "cell_type": "code",
      "execution_count": 25,
      "metadata": {
        "colab": {
          "base_uri": "https://localhost:8080/"
        },
        "id": "YqRY90S0ZmNW",
        "outputId": "6b54095e-0cf1-4467-e036-797812e8cd23"
      },
      "outputs": [
        {
          "output_type": "stream",
          "name": "stdout",
          "text": [
            "[[20 30 40 50 60]\n",
            " [11 17 23 29 35]]\n"
          ]
        }
      ],
      "source": [
        "selected_columns1=combined_array[:,2:-2:2]\n",
        "print(selected_columns1)"
      ]
    },
    {
      "cell_type": "markdown",
      "metadata": {
        "id": "x21_4u7SZmUx"
      },
      "source": [
        "###  Select 3rd to 3rd last columns skipping every second column but in reverse order"
      ]
    },
    {
      "cell_type": "code",
      "source": [
        "# prompt: Select 3rd to 3rd last columns skipping every second column but in reverse order\n",
        "\n",
        "selected_columns_reverse = combined_array[:,2:-2:2][:,::-1]\n",
        "print(selected_columns_reverse)\n"
      ],
      "metadata": {
        "colab": {
          "base_uri": "https://localhost:8080/"
        },
        "id": "eBu15oJMl0Sz",
        "outputId": "3d5dc0f2-9ffd-4e6c-a4b7-4cdd8fe39760"
      },
      "execution_count": 39,
      "outputs": [
        {
          "output_type": "stream",
          "name": "stdout",
          "text": [
            "[[60 50 40 30 20]\n",
            " [35 29 23 17 11]]\n"
          ]
        }
      ]
    },
    {
      "cell_type": "markdown",
      "metadata": {
        "id": "bqVyb4DKZmkR"
      },
      "source": [
        "### We will work with the following array:"
      ]
    },
    {
      "cell_type": "code",
      "execution_count": null,
      "metadata": {
        "colab": {
          "base_uri": "https://localhost:8080/"
        },
        "id": "Iz86eeTWZmsK",
        "outputId": "657f8c8d-0a3b-44b8-e0fe-6de9614c11c1"
      },
      "outputs": [
        {
          "data": {
            "text/plain": [
              "array([[ 0,  1,  2,  3,  4],\n",
              "       [ 5,  6,  7,  8,  9],\n",
              "       [10, 11, 12, 13, 14],\n",
              "       [15, 16, 17, 18, 19],\n",
              "       [20, 21, 22, 23, 24]])"
            ]
          },
          "execution_count": 4,
          "metadata": {},
          "output_type": "execute_result"
        }
      ],
      "source": [
        "a = np.arange(25).reshape(5, 5)\n",
        "a"
      ]
    },
    {
      "cell_type": "markdown",
      "metadata": {
        "id": "OdjK0hqobWGp"
      },
      "source": [
        "### Use slicing only to select 3rd and last row along with 2nd and last columns"
      ]
    },
    {
      "cell_type": "code",
      "source": [
        "sliced_array=a[[2,-1],[1,-1]]\n",
        "print(sliced_array)"
      ],
      "metadata": {
        "colab": {
          "base_uri": "https://localhost:8080/"
        },
        "id": "7E2LwZl_puKh",
        "outputId": "9baf0410-9611-48b1-af8c-27652bdf1ba2"
      },
      "execution_count": 44,
      "outputs": [
        {
          "output_type": "stream",
          "name": "stdout",
          "text": [
            "[11 24]\n"
          ]
        }
      ]
    },
    {
      "cell_type": "markdown",
      "metadata": {
        "id": "5PtInLvEb7Am"
      },
      "source": [
        "### Extract the following sub-array: [[2, 3], [12, 13], [22, 23]]"
      ]
    },
    {
      "cell_type": "code",
      "source": [
        "# Define the larger array\n",
        "larger_array = [\n",
        "    [0, 1],\n",
        "    [2, 3],\n",
        "    [4, 5],\n",
        "    [6, 7],\n",
        "    [8, 9],\n",
        "    [10, 11],\n",
        "    [12, 13],\n",
        "    [14, 15],\n",
        "    [16, 17],\n",
        "    [18, 19],\n",
        "    [20, 21],\n",
        "    [22, 23]\n",
        "]\n",
        "\n",
        "# Extract the sub-array [[2, 3], [12, 13], [22, 23]]\n",
        "sub_array = [\n",
        "    larger_array[1],\n",
        "    larger_array[6],\n",
        "    larger_array[11]\n",
        "]\n",
        "\n",
        "print(sub_array)"
      ],
      "metadata": {
        "colab": {
          "base_uri": "https://localhost:8080/"
        },
        "id": "9gR5vealvTCC",
        "outputId": "30d12743-d1ba-4a87-e919-2e7b70b96436"
      },
      "execution_count": 48,
      "outputs": [
        {
          "output_type": "stream",
          "name": "stdout",
          "text": [
            "[[2, 3], [12, 13], [22, 23]]\n"
          ]
        }
      ]
    },
    {
      "cell_type": "markdown",
      "metadata": {
        "id": "mHN-ADlNcRE7"
      },
      "source": [
        "### Combine fancy/location indexing with slicing to extract the following sub-array: [[6, 8], [16, 18], [21, 23]]"
      ]
    },
    {
      "cell_type": "code",
      "source": [
        "arr = np.arange(24).reshape(4, 6)\n",
        "print(arr)\n",
        "\n",
        "# Extract sub-array using fancy indexing and slicing\n",
        "sub_array = arr[[1, 2, 3], 1::2]  # Rows 1, 2, and 3 (inclusive), columns with step 2\n",
        "\n",
        "print(sub_array)"
      ],
      "metadata": {
        "colab": {
          "base_uri": "https://localhost:8080/"
        },
        "id": "u107g8wlz3LM",
        "outputId": "c5de9e10-b99a-4caa-8fdd-a417545fc074"
      },
      "execution_count": 50,
      "outputs": [
        {
          "output_type": "stream",
          "name": "stdout",
          "text": [
            "[[ 0  1  2  3  4  5]\n",
            " [ 6  7  8  9 10 11]\n",
            " [12 13 14 15 16 17]\n",
            " [18 19 20 21 22 23]]\n",
            "[[ 7  9 11]\n",
            " [13 15 17]\n",
            " [19 21 23]]\n"
          ]
        }
      ]
    },
    {
      "cell_type": "markdown",
      "metadata": {
        "id": "gRle44JLc8oL"
      },
      "source": [
        "### Change the values 1, 10, 19 and 22 in the array to -2"
      ]
    },
    {
      "cell_type": "code",
      "execution_count": 52,
      "metadata": {
        "id": "MnIs-SBzdMPv",
        "colab": {
          "base_uri": "https://localhost:8080/"
        },
        "outputId": "9880d324-0b04-44c9-fda1-bcb0fbb5fcf2"
      },
      "outputs": [
        {
          "output_type": "stream",
          "name": "stdout",
          "text": [
            "[[ 0 -2  2  3  4]\n",
            " [ 5  6  7  8  9]\n",
            " [-2 11 12 13 14]\n",
            " [15 16 17 -2 19]\n",
            " [20 21 -2 23 24]]\n"
          ]
        }
      ],
      "source": [
        "a = np.arange(25).reshape(5, 5)\n",
        "\n",
        "a[[0, 2, 3, 4], [1, 0, 3, 2]] = -2\n",
        "\n",
        "print(a)\n"
      ]
    },
    {
      "cell_type": "markdown",
      "metadata": {
        "id": "tWSQO5e3dZxf"
      },
      "source": [
        "### Repeat above using boolean indexing"
      ]
    },
    {
      "cell_type": "code",
      "execution_count": 53,
      "metadata": {
        "id": "zytB7nrMdYfT",
        "colab": {
          "base_uri": "https://localhost:8080/"
        },
        "outputId": "55b3d059-c0ee-473a-da61-081674ae350a"
      },
      "outputs": [
        {
          "output_type": "stream",
          "name": "stdout",
          "text": [
            "[[ 0 -2  2  3  4]\n",
            " [ 5  6  7  8  9]\n",
            " [-2 11 12 13 14]\n",
            " [15 16 17 -2 -2]\n",
            " [20 21 -2 23 24]]\n"
          ]
        }
      ],
      "source": [
        "# Create a boolean mask\n",
        "mask = (a == 1) | (a == 10) | (a == 19) | (a == 22)\n",
        "\n",
        "a[mask] = -2\n",
        "\n",
        "print(a)\n"
      ]
    },
    {
      "cell_type": "markdown",
      "metadata": {
        "id": "2i_7lkqpdhtx"
      },
      "source": [
        "### Combine slicing in the column dimension and boolean indexing in row dimension to extract the following sub-array: [[0, 3], [10, 13], [15, 18]]"
      ]
    },
    {
      "cell_type": "code",
      "execution_count": 54,
      "metadata": {
        "id": "O8683ef2dYng",
        "colab": {
          "base_uri": "https://localhost:8080/"
        },
        "outputId": "f203f3d2-1420-4801-e88b-02ac83681816"
      },
      "outputs": [
        {
          "output_type": "stream",
          "name": "stdout",
          "text": [
            "[[ 0  3]\n",
            " [ 6  9]\n",
            " [12 15]]\n"
          ]
        }
      ],
      "source": [
        "arr = np.arange(24).reshape(4, 6)\n",
        "\n",
        "# Define the boolean mask for row selection\n",
        "row_mask = np.array([0, 1, 2])\n",
        "\n",
        "# Extract the sub-array using slicing and boolean indexing\n",
        "sub_array = arr[row_mask, 0::3]\n",
        "\n",
        "# Print the sub-array\n",
        "print(sub_array)\n"
      ]
    },
    {
      "cell_type": "markdown",
      "metadata": {
        "id": "BLH29N-KLDEJ"
      },
      "source": [
        "### Calculating the sum, min and max of all diagonal values"
      ]
    },
    {
      "cell_type": "code",
      "execution_count": 55,
      "metadata": {
        "id": "ARzj6VP9LCPz",
        "colab": {
          "base_uri": "https://localhost:8080/"
        },
        "outputId": "f7cedb5c-f680-483f-8186-d9da15a63330"
      },
      "outputs": [
        {
          "output_type": "stream",
          "name": "stdout",
          "text": [
            "Sum of diagonal values: 15\n",
            "Minimum diagonal value: 1\n",
            "Maximum diagonal value: 9\n"
          ]
        }
      ],
      "source": [
        "a = np.array([[1, 2, 3],\n",
        "              [4, 5, 6],\n",
        "              [7, 8, 9]])\n",
        "\n",
        "# Calculate the sum of all diagonal values\n",
        "diagonal_sum = np.trace(a)\n",
        "\n",
        "# Calculate the minimum of all diagonal values\n",
        "diagonal_min = np.min(np.diagonal(a))\n",
        "\n",
        "# Calculate the maximum of all diagonal values\n",
        "diagonal_max = np.max(np.diagonal(a))\n",
        "\n",
        "# Print the results\n",
        "print(\"Sum of diagonal values:\", diagonal_sum)\n",
        "print(\"Minimum diagonal value:\", diagonal_min)\n",
        "print(\"Maximum diagonal value:\", diagonal_max)\n"
      ]
    },
    {
      "cell_type": "markdown",
      "metadata": {
        "id": "IIL3aHfpMQpr"
      },
      "source": [
        "### Calculate the sum of differences between the 2nd row and 2nd last column"
      ]
    },
    {
      "cell_type": "code",
      "execution_count": 56,
      "metadata": {
        "id": "mNyxI8d0Mcvz",
        "colab": {
          "base_uri": "https://localhost:8080/"
        },
        "outputId": "e7bdf0dd-3b60-4763-ef63-af8cc9df97c2"
      },
      "outputs": [
        {
          "output_type": "stream",
          "name": "stdout",
          "text": [
            "Sum of differences: 0\n"
          ]
        }
      ],
      "source": [
        "import numpy as np\n",
        "a = np.array([[1, 2, 3],\n",
        "              [4, 5, 6],\n",
        "              [7, 8, 9]])\n",
        "\n",
        "# Calculate the difference between the 2nd row and 2nd last column\n",
        "difference = a[1, :] - a[-2, :]\n",
        "\n",
        "# Calculate the sum of the differences\n",
        "sum_of_differences = np.sum(difference)\n",
        "\n",
        "# Print the result\n",
        "print(\"Sum of differences:\", sum_of_differences)\n"
      ]
    },
    {
      "cell_type": "markdown",
      "metadata": {
        "id": "jEo7E6YNNIU5"
      },
      "source": [
        "### Create a new array that is the sum of even rows and odd rows"
      ]
    },
    {
      "cell_type": "code",
      "execution_count": 58,
      "metadata": {
        "id": "UEwbxwAPNikT",
        "colab": {
          "base_uri": "https://localhost:8080/"
        },
        "outputId": "4f17549b-54ac-4c9d-dc01-ff751034e05c"
      },
      "outputs": [
        {
          "output_type": "stream",
          "name": "stdout",
          "text": [
            "[21 57]\n"
          ]
        }
      ],
      "source": [
        "import numpy as np\n",
        "a = np.array([[1, 2, 3],\n",
        "              [4, 5, 6],\n",
        "              [7, 8, 9],\n",
        "              [10, 11, 12]])\n",
        "\n",
        "# Find the sum of even rows\n",
        "even_rows_sum = np.sum(a[::2], axis=1)\n",
        "\n",
        "# Find the sum of odd rows\n",
        "odd_rows_sum = np.sum(a[1::2], axis=1)\n",
        "\n",
        "# Create a new array that is the sum of even and odd rows\n",
        "new_array = even_rows_sum + odd_rows_sum\n",
        "\n",
        "# Print the new array\n",
        "print(new_array)\n"
      ]
    },
    {
      "cell_type": "markdown",
      "metadata": {
        "id": "TaKXFf_5d67q"
      },
      "source": [
        "## You are done. Good job!"
      ]
    },
    {
      "cell_type": "code",
      "execution_count": null,
      "metadata": {
        "id": "PwdTR28zd6Ji"
      },
      "outputs": [],
      "source": []
    }
  ],
  "metadata": {
    "colab": {
      "provenance": []
    },
    "kernelspec": {
      "display_name": "Python 3",
      "name": "python3"
    },
    "language_info": {
      "name": "python"
    }
  },
  "nbformat": 4,
  "nbformat_minor": 0
}