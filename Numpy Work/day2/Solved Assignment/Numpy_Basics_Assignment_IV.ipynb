{
  "nbformat": 4,
  "nbformat_minor": 0,
  "metadata": {
    "colab": {
      "provenance": []
    },
    "kernelspec": {
      "name": "python3",
      "display_name": "Python 3"
    },
    "language_info": {
      "name": "python"
    }
  },
  "cells": [
    {
      "cell_type": "code",
      "execution_count": null,
      "metadata": {
        "id": "qQxFQvrEEKqm"
      },
      "outputs": [],
      "source": [
        "import numpy as np"
      ]
    },
    {
      "cell_type": "code",
      "source": [
        "from google.colab import drive\n",
        "drive.mount('/content/drive')"
      ],
      "metadata": {
        "id": "n_ncJAFDEbs1"
      },
      "execution_count": null,
      "outputs": []
    },
    {
      "cell_type": "markdown",
      "source": [
        "# Q.1\n",
        "**Statement:** You are working with a retail store that needs to manage its inventory efficiently. They have provided you with a dataset containing information about products, their quantities in stock, and the number of units sold daily for the past week. Total number of products are 5. Your task is to calculate the following:\n",
        "\n",
        "\n",
        "\n",
        "1.The total sales for each product over the past week.\n",
        "\n",
        "2.The average daily sales for each product.\n",
        "\n",
        "3.The product with the highest sales.\n",
        "\n",
        "4.The product with the lowest sales.\n",
        "\n",
        "5.The total sales for all products combined.\n",
        "\n",
        "You are required to use NumPy for efficient data processing and calculations. Write code to solve this inventory management problem."
      ],
      "metadata": {
        "id": "5dL78wl-ElhS"
      }
    },
    {
      "cell_type": "code",
      "source": [
        "import numpy as np\n",
        "\n",
        "# Sample data (replace with your actual data)\n",
        "product_names = np.array(['Product A', 'Product B', 'Product C', 'Product D', 'Product E'])\n",
        "quantities_in_stock = np.array([100, 150, 200, 250, 50])\n",
        "\n",
        "daily_sales_data = np.array([[10, 15, 20, 25, 30, 35, 40],\n",
        "                             [5, 7, 8, 10, 12, 14, 16],\n",
        "                             [15, 20, 25, 30, 35, 40, 40],\n",
        "                             [12, 25, 20, 40, 20, 32, 55],\n",
        "                             [15, 20, 25, 30, 35, 40, 45]])\n",
        "\n",
        "# Calculate total sales revenue for each product over the past week\n",
        "total_sales_per_product = np.sum(daily_sales_data, axis=1)\n",
        "print(\"Total Sales per Product:\", total_sales_per_product)\n",
        "\n",
        "# Calculate average daily sales for each product\n",
        "daily_sales_per_product = daily_sales_data.mean(axis=1)\n",
        "print(\"Average Daily Sales per Product:\", daily_sales_per_product)\n",
        "\n",
        "\n",
        "# Find the product with the highest and lowest sales\n",
        "highest_sales_product = product_names[total_sales_per_product.argmax()]\n",
        "print(\"Highest sales product\", highest_sales_product)\n",
        "\n",
        "lowest_sales_product = product_names[total_sales_per_product.argmin()]\n",
        "print(\"Lowest sales product\", lowest_sales_product)\n",
        "\n",
        "# Calculate the total sales revenue for all products combined\n",
        "total_sales_revenue = total_sales_per_product.sum()\n",
        "print(\"total_sales_revenue\",total_sales_revenue)"
      ],
      "metadata": {
        "id": "DxtXsLXRVpdW",
        "colab": {
          "base_uri": "https://localhost:8080/"
        },
        "outputId": "17c663d1-0f66-4a43-8bfa-b1fb030104e6"
      },
      "execution_count": 30,
      "outputs": [
        {
          "output_type": "stream",
          "name": "stdout",
          "text": [
            "Total Sales per Product: [175  72 205 204 210]\n",
            "Average Daily Sales per Product: [25.         10.28571429 29.28571429 29.14285714 30.        ]\n",
            "Highest sales product Product E\n",
            "Lowest sales product Product B\n",
            "total_sales_revenue 866\n"
          ]
        }
      ]
    },
    {
      "cell_type": "markdown",
      "source": [
        "# Q.2\n",
        "**Statement:** Statement: You are working with a manufacturing plant that produces various components. They have provided you with data on the production rates of five different machines over the past month. Your task is to analyze the performance of these machines by calculating the following metrics:\n",
        "\n",
        "1.The total production output for each machine over the past month.\n",
        "\n",
        "2.The average daily production rate for each machine.\n",
        "\n",
        "3.The machine with the highest total production output.\n",
        "\n",
        "4.The machine with the lowest total production output.\n",
        "\n",
        "The overall production efficiency of the plant, which is defined as the ratio of the total production output to the total number of hours worked, and working hour for each day is 2 hours."
      ],
      "metadata": {
        "id": "ICk1qoQHVwDc"
      }
    },
    {
      "cell_type": "code",
      "source": [
        "\n",
        "\n",
        "# Sample data (replace with your actual data)\n",
        "machine_names = np.array(['Machine A', 'Machine B', 'Machine C', 'Machine D', 'Machine E'])\n",
        "print(\"machine_names\",machine_names)\n",
        "production_rates = np.random.randint(100, 201, size=(5, 30))  # 5 machines, 30 days\n",
        "production_rates\n",
        "\n",
        "# Generate random production rates between 100 and 200 for 5 machines and 30 days\n",
        "production_rates = np.random.randint(100, 201, size=(5, 30))  # 5 machines, 30 days\n",
        "production_rates\n",
        "\n",
        "# Calculate total production output for each machine over the past month\n",
        "total_production_per_machine = np.sum(production_rates, axis=1)\n",
        "print(\"Total Production per Machine:\", total_production_per_machine)\n",
        "\n",
        "# Calculate average daily production rate for each machine\n",
        "average_daily_production = np.mean(production_rates, axis=1)\n",
        "print(\"Average Daily Production per Machine:\", average_daily_production)\n",
        "\n",
        "# Find the machine with the highest and lowest total production output\n",
        "highest_total_production = machine_names[total_production_per_machine.argmax()]\n",
        "print(\"Machine with Highest Total Production:\", highest_total_production)\n",
        "lowest_total_production = machine_names[total_production_per_machine.argmin()]\n",
        "print(\"Machine with Lowest Total Production:\", lowest_total_production)\n",
        "\n",
        "# Calculate the overall production efficiency of the plant\n",
        "overall_production_efficiency = np.sum(total_production_per_machine) / (2 * 30) #(2*30) represents the 2hours/day * 30 days\n",
        "print(\"Overall Production Efficiency:\", overall_production_efficiency)\n"
      ],
      "metadata": {
        "id": "lIu6pfmgbUQd",
        "colab": {
          "base_uri": "https://localhost:8080/"
        },
        "outputId": "6363f50e-04ef-462a-cdf8-44116861f1a2"
      },
      "execution_count": 33,
      "outputs": [
        {
          "output_type": "stream",
          "name": "stdout",
          "text": [
            "machine_names ['Machine A' 'Machine B' 'Machine C' 'Machine D' 'Machine E']\n",
            "Total Production per Machine: [4530 4221 4396 4498 4480]\n",
            "Average Daily Production per Machine: [151.         140.7        146.53333333 149.93333333 149.33333333]\n",
            "Machine with Highest Total Production: Machine A\n",
            "Machine with Lowest Total Production: Machine B\n",
            "Overall Production Efficiency: 368.75\n"
          ]
        }
      ]
    },
    {
      "cell_type": "markdown",
      "source": [
        "# Q3:\n",
        "\n",
        "**Statment**\n",
        "You are working on a project that involves simulating sensor data for a network of 10 sensors over a period of 15 days. Each sensor collects data once per hour. Your task is to generate a NumPy array named sensor_data to represent this simulated sensor data and perform following statistical analysis on it.\n",
        "\n",
        "Populate the sensor_data array with random floating-point values between 0.0 and 100.0\n",
        "The generated values should represent sensor readings collected once per hour.\n",
        "\n",
        "After generating the sensor_data array, perform the following statistical **calculations:**\n",
        "\n",
        "1.Calculate the mean (average) sensor reading for each sensor over the 15 days.\n",
        "\n",
        "2.Calculate the standard deviation of sensor readings for each sensor.\n",
        "\n",
        "3.Calculate the maximum sensor reading for each sensor.\n",
        "\n",
        "4.Calculate the minimum sensor reading for each sensor.\n",
        "\n",
        "5.Calculate the overall mean sensor reading for all sensors and all days.\n",
        "\n",
        "6.Calculate the overall standard deviation of sensor readings for all sensors an"
      ],
      "metadata": {
        "id": "Ayc9TG-vff7A"
      }
    },
    {
      "cell_type": "code",
      "source": [
        "import numpy as np\n",
        "\n",
        "# Data Generation Requirements\n",
        "num_sensors = 10\n",
        "num_days = 15\n",
        "hours_per_day = 24\n",
        "shape = (num_sensors, num_days * hours_per_day)\n",
        "print(\"shape\",shape)\n",
        "\n",
        "# Populate the sensor_data array with random floating-point values between 0.0 and 100.0\n",
        "sensor_data = np.random.uniform(0.0, 100.0, shape)\n",
        "print(\"sensor_data\",sensor_data)\n",
        "\n",
        "#Calculate the mean (average) sensor reading for each sensor over the 15 days.\n",
        "mean_sensor_reading = np.mean(sensor_data, axis=1)\n",
        "print(\"mean_sensor_reading\",mean_sensor_reading)\n",
        "\n",
        "#Calculate the standard deviation of sensor readings for each sensor.\n",
        "std_sensor_reading = np.std(sensor_data, axis=1)\n",
        "print(\"std_sensor_reading\",std_sensor_reading)\n",
        "\n",
        "#Calculate the maximum sensor reading for each sensor.\n",
        "max_sensor_reading = np.max(sensor_data, axis=1)\n",
        "print(\"max_sensor_reading\",max_sensor_reading)\n",
        "\n",
        "#Calculate the minimum sensor reading for each sensor.\n",
        "min_sensor_reading = np.min(sensor_data, axis=1)\n",
        "print(\"min_sensor_reading\",min_sensor_reading)\n",
        "\n",
        "#Calculate the overall mean sensor reading for all sensors and all days.\n",
        "overall_mean_sensor_reading = np.mean(sensor_data)\n",
        "print(\"overall_mean_sensor_reading\",overall_mean_sensor_reading)\n",
        "\n",
        "#Calculate the overall standard deviation of sensor readings for all sensors\n",
        "overall_std_sensor_reading = np.std(sensor_data)\n",
        "print(\"overall_std_sensor_reading\",overall_std_sensor_reading)"
      ],
      "metadata": {
        "id": "TWSK9GA1gfz0",
        "colab": {
          "base_uri": "https://localhost:8080/"
        },
        "outputId": "720d92fc-70f2-4e26-92f2-23304dcca7df"
      },
      "execution_count": 42,
      "outputs": [
        {
          "output_type": "stream",
          "name": "stdout",
          "text": [
            "shape (10, 360)\n",
            "sensor_data [[55.63786044 61.08105506 41.38538962 ...  2.23741038 43.71354589\n",
            "  71.86178434]\n",
            " [17.81513454 44.61088503 18.80713827 ... 48.6078432  65.88879419\n",
            "  29.54322666]\n",
            " [29.62598438 16.46447704  5.09961774 ... 11.26094332 76.02817129\n",
            "   4.62487305]\n",
            " ...\n",
            " [99.20080193 14.60639501 25.2675193  ... 46.99364432 71.16919909\n",
            "   7.6261114 ]\n",
            " [17.54573038 41.71705074 79.38885772 ... 80.43796756 69.8047513\n",
            "   7.59967691]\n",
            " [43.25647624  3.33988888 47.31889989 ...  3.52270259 24.07327452\n",
            "  73.01873083]]\n",
            "mean_sensor_reading [48.8798619  50.87963183 48.23347266 51.05486453 49.51344681 50.31099175\n",
            " 50.16522603 51.48883426 49.48017649 50.99033728]\n",
            "std_sensor_reading [29.16667167 30.13610803 28.49161312 28.94961173 30.01097426 28.20823711\n",
            " 28.80326173 28.48948331 28.26937764 28.12729959]\n",
            "max_sensor_reading [99.8279335  99.88823846 99.96565195 99.64809715 99.54125207 99.80669179\n",
            " 99.82411465 99.91569897 99.99772795 99.70217757]\n",
            "min_sensor_reading [0.12291802 0.10421541 0.34823748 0.15871299 0.0914422  0.68644131\n",
            " 0.05538836 0.4059754  0.17029121 0.39623728]\n",
            "overall_mean_sensor_reading 50.09968435332354\n",
            "overall_std_sensor_reading 28.890598902066543\n"
          ]
        }
      ]
    },
    {
      "cell_type": "markdown",
      "source": [
        "# Q4:\n",
        "\n",
        "**Statement**: You are tasked with analyzing the exam scores of 30 students in a class over a period of 10 exams. The exam scores are represented as a NumPy, where each row corresponds to a different student, and each column represents their score in a specific exam.\n",
        "\n",
        "Populate the exam_scores array with random integer values between 50 and 100 to simulate students' exam performance.\n",
        "\n",
        "After generating the exam_scores array, perform the following tasks:\n",
        "\n",
        "1.Calculate the average score for each student over the 10 exams.\n",
        "\n",
        "2.Calculate the standard deviation of scores for each student.\n",
        "\n",
        "3.Identify students who have consistently performed well, defined as those whose average score is above 85.\n",
        "\n",
        "4.Identify students who may need additional support, defined as those whose average score is below 50.\n",
        "\n",
        "Write code to create and populate the exam_scores array and then perform the specified statistical analysis and performance evaluation tasks on the data.\n",
        "\n",
        "\n",
        "\n"
      ],
      "metadata": {
        "id": "IShr0NSyhcEc"
      }
    },
    {
      "cell_type": "code",
      "source": [
        "import numpy as np\n",
        "\n",
        "# Create the exam_scores array (30 students, 10 exams)\n",
        "num_students = 30\n",
        "num_exams = 10\n",
        "\n",
        "# Populate the exam_scores array with random scores between 50 and 100\n",
        "exam_scores = np.random.randint(50, 101, size=(num_students, num_exams))\n",
        "print(\"exam_scores\",exam_scores)\n",
        "\n",
        "# 1. Calculate the average score for each student over the 10 exams\n",
        "average_scores = np.mean(exam_scores, axis=1)\n",
        "print(\"average_scores\",average_scores)\n",
        "\n",
        "# 2. Calculate the standard deviation of scores for each student\n",
        "std_scores = np.std(exam_scores, axis=1)\n",
        "print(\"std_scores\",std_scores)\n",
        "\n",
        "# 3. Identify students who have consistently performed well (average score > 85)\n",
        "consistent_students = np.where(average_scores > 85)[0]\n",
        "print(\"consistent_students\",consistent_students)\n",
        "for i in consistent_students:\n",
        "  print(f\"Student {i+1} has consistently performed well.\")\n",
        "\n",
        "# 4. Identify students who may need additional support (average score < 60)\n",
        "additional_support_students = np.where(average_scores < 60)[0]\n",
        "print(\"additional_support_students\",additional_support_students)\n",
        "for i in additional_support_students:\n",
        "  print(f\"Student {i+1} may need additional support.\")\n"
      ],
      "metadata": {
        "id": "F3p_SMeoiT2o",
        "colab": {
          "base_uri": "https://localhost:8080/"
        },
        "outputId": "b6adaff6-6e35-410c-e62d-6c762c79cd1b"
      },
      "execution_count": 61,
      "outputs": [
        {
          "output_type": "stream",
          "name": "stdout",
          "text": [
            "exam_scores [[ 72  57  52  79  82  72  93  70  96  84]\n",
            " [ 98  92  60  55  64  64  97  73  64  80]\n",
            " [ 56  53  60  56  53  91  62  99  84  72]\n",
            " [ 55  56  90  84  57  94  62  55  82  85]\n",
            " [ 85  55  88  72  51  61  88  55  74  75]\n",
            " [ 93  56  72  84  57  77  86  65  69  97]\n",
            " [ 51  79  79  99  90  63  75  66  50  87]\n",
            " [ 80  88  54  54 100  84  94  99  54  58]\n",
            " [ 54  96  56  85  99  79  81  89  79  97]\n",
            " [ 75  69  68  85  76  54  52  55  68  73]\n",
            " [ 59  63  68  63  67  56  98  89  68 100]\n",
            " [ 93  85  73  72  92  78  70  93  75  69]\n",
            " [ 94  78  64  92  73  94  85  63  59  78]\n",
            " [ 66  96  80  88  80  70  65  89  93  70]\n",
            " [ 69  79  71  95  88  53  71  69  66  79]\n",
            " [ 64  52  87  87  87  97  51  80 100  99]\n",
            " [ 68  71  69  51  54  88  95  60  65  63]\n",
            " [ 68  63  96  50  51  75  82  62  74  78]\n",
            " [ 88  70  55  99  74  95  52  62  84  85]\n",
            " [ 79  66  81  55  97 100  95  83  53  66]\n",
            " [ 66  99  91  96  75  79  81  85  98  53]\n",
            " [ 93  50  76  52 100  78  64  95  66  51]\n",
            " [ 75  99  90  96  96  99  59  63  50  51]\n",
            " [ 92  82  78  56  80  84  92  91  96  85]\n",
            " [ 57  60  65  52  88  58  64  61  98  50]\n",
            " [ 91  93  51  60  61  95  97  78  52  68]\n",
            " [ 52  91  85  75  62  55  64  88  72  71]\n",
            " [ 97  73  86  58  85  58  82  96  74  70]\n",
            " [ 71  83  93  72  94  58  89  65  68  67]\n",
            " [ 72  90  61  90  80  71  96  60  79  81]]\n",
            "average_scores [75.7 74.7 68.6 72.  70.4 75.6 73.9 76.5 81.5 67.5 73.1 80.  78.  79.7\n",
            " 74.  80.4 68.4 69.9 76.4 77.5 82.3 72.5 77.8 83.6 65.3 74.6 71.5 77.9\n",
            " 76.  78. ]\n",
            "std_scores [13.42423182 15.22530788 16.1133485  15.42724862 13.44767638 13.56613431\n",
            " 15.46253537 18.51080765 14.98165545 10.22985826 15.43016526  9.32737905\n",
            " 12.50599856 10.90917045 11.22497216 17.53966932 13.11640195 13.42721118\n",
            " 15.58974022 16.15085137 14.09290602 17.96802716 19.44633642 10.77218641\n",
            " 14.71767645 17.45393938 12.83160161 13.11068267 12.0913192  11.50651989]\n",
            "consistent_students []\n",
            "additional_support_students []\n"
          ]
        }
      ]
    },
    {
      "cell_type": "code",
      "source": [],
      "metadata": {
        "id": "xrdEho-m52x1"
      },
      "execution_count": null,
      "outputs": []
    }
  ]
}