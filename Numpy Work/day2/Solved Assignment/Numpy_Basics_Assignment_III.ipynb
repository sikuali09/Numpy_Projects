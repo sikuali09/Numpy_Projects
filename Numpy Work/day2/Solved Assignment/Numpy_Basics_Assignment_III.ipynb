{
  "cells": [
    {
      "cell_type": "code",
      "execution_count": null,
      "id": "2a8a0fa8-ceee-4b65-9739-39bdbf33d23c",
      "metadata": {
        "id": "2a8a0fa8-ceee-4b65-9739-39bdbf33d23c"
      },
      "outputs": [],
      "source": [
        "import numpy as np"
      ]
    },
    {
      "cell_type": "markdown",
      "id": "6cd94836-36bf-4eca-a68c-4d4afb52ef7d",
      "metadata": {
        "id": "6cd94836-36bf-4eca-a68c-4d4afb52ef7d"
      },
      "source": [
        "# Q1"
      ]
    },
    {
      "cell_type": "markdown",
      "id": "26a82645-942a-40ba-9d5b-a58c65d27817",
      "metadata": {
        "id": "26a82645-942a-40ba-9d5b-a58c65d27817"
      },
      "source": [
        "Statement: Given a 3D NumPy array arr of shape (2, 3, 4), write a code snippet to calculate the sum of all elements in the array.\n",
        "\n",
        "Sample Input:"
      ]
    },
    {
      "cell_type": "code",
      "execution_count": 6,
      "id": "dbf71bf2-1ac9-48f3-96fb-5f22ad767b29",
      "metadata": {
        "id": "dbf71bf2-1ac9-48f3-96fb-5f22ad767b29",
        "colab": {
          "base_uri": "https://localhost:8080/"
        },
        "outputId": "0924e07d-fdc8-47b4-c826-daead687176c"
      },
      "outputs": [
        {
          "output_type": "execute_result",
          "data": {
            "text/plain": [
              "13.99397953429126"
            ]
          },
          "metadata": {},
          "execution_count": 6
        }
      ],
      "source": [
        "a=np.random.rand(2,3,4)\n",
        "a\n",
        "sum=a.sum()\n",
        "sum"
      ]
    },
    {
      "cell_type": "markdown",
      "id": "14bd52a2-86d8-4ef6-b1ee-de66e9703458",
      "metadata": {
        "id": "14bd52a2-86d8-4ef6-b1ee-de66e9703458"
      },
      "source": [
        "# Q2"
      ]
    },
    {
      "cell_type": "markdown",
      "id": "9a536e77-25c6-4b63-906b-7aa8eaaa073e",
      "metadata": {
        "id": "9a536e77-25c6-4b63-906b-7aa8eaaa073e"
      },
      "source": [
        "Statement: Write a NumPy code snippet to create a 4D array arr of shape (2, 3, 4, 5) filled with random integers ranging from 0 to 9.\n",
        "\n",
        "Sample Output:"
      ]
    },
    {
      "cell_type": "code",
      "execution_count": 12,
      "id": "5602b3f2-13e2-4585-9870-9bc07563c60e",
      "metadata": {
        "id": "5602b3f2-13e2-4585-9870-9bc07563c60e",
        "colab": {
          "base_uri": "https://localhost:8080/"
        },
        "outputId": "81c213cc-3a29-4583-96d2-7b645ec1336a"
      },
      "outputs": [
        {
          "output_type": "execute_result",
          "data": {
            "text/plain": [
              "array([[[[9, 2, 9, 3, 0],\n",
              "         [1, 2, 2, 7, 3],\n",
              "         [2, 5, 4, 8, 9],\n",
              "         [8, 3, 2, 8, 3]],\n",
              "\n",
              "        [[2, 6, 8, 9, 1],\n",
              "         [5, 5, 2, 6, 9],\n",
              "         [0, 7, 3, 0, 5],\n",
              "         [6, 5, 5, 5, 6]],\n",
              "\n",
              "        [[3, 7, 5, 8, 1],\n",
              "         [5, 6, 8, 7, 4],\n",
              "         [2, 6, 1, 2, 4],\n",
              "         [5, 9, 5, 6, 6]]],\n",
              "\n",
              "\n",
              "       [[[9, 1, 6, 3, 3],\n",
              "         [2, 7, 4, 4, 9],\n",
              "         [4, 4, 9, 5, 9],\n",
              "         [2, 4, 7, 1, 0]],\n",
              "\n",
              "        [[4, 0, 2, 3, 0],\n",
              "         [5, 4, 2, 9, 4],\n",
              "         [5, 9, 0, 6, 2],\n",
              "         [3, 4, 9, 6, 3]],\n",
              "\n",
              "        [[1, 8, 1, 3, 3],\n",
              "         [9, 4, 2, 3, 9],\n",
              "         [6, 2, 7, 1, 5],\n",
              "         [3, 9, 3, 3, 4]]]])"
            ]
          },
          "metadata": {},
          "execution_count": 12
        }
      ],
      "source": [
        "a=np.random.randint(0,10,size=(2,3,4,5))\n",
        "a"
      ]
    },
    {
      "cell_type": "markdown",
      "id": "540f8d57-6cc0-4e53-8744-787e868276a4",
      "metadata": {
        "id": "540f8d57-6cc0-4e53-8744-787e868276a4"
      },
      "source": [
        "# Q3"
      ]
    },
    {
      "cell_type": "markdown",
      "id": "37497bad-10e3-4c65-b4f6-65bb5ed0b00d",
      "metadata": {
        "id": "37497bad-10e3-4c65-b4f6-65bb5ed0b00d"
      },
      "source": [
        "Statement: Given a 4D NumPy array arr of shape (2, 3, 4, 5), write a code snippet to calculate the mean along the second axis.\n",
        "\n",
        "Sample Input:"
      ]
    },
    {
      "cell_type": "code",
      "execution_count": 16,
      "id": "84df3761-5341-4010-b541-6a79a1b74625",
      "metadata": {
        "id": "84df3761-5341-4010-b541-6a79a1b74625",
        "colab": {
          "base_uri": "https://localhost:8080/"
        },
        "outputId": "689b9ed4-32dd-4183-f14a-ee25528e7b62"
      },
      "outputs": [
        {
          "output_type": "stream",
          "name": "stdout",
          "text": [
            "[[[[4.74753930e-01 3.28243522e-01 2.32882244e-02 5.68121388e-01\n",
            "    2.77621479e-02]\n",
            "   [8.87548312e-01 3.03218915e-01 3.76358507e-01 6.27970185e-01\n",
            "    7.55134308e-01]\n",
            "   [2.61180556e-01 9.29591768e-01 2.29831067e-01 3.93139742e-01\n",
            "    1.58159181e-01]\n",
            "   [5.42046733e-01 2.07429224e-01 3.03150217e-01 5.99770122e-01\n",
            "    2.54151229e-01]]\n",
            "\n",
            "  [[9.77958670e-01 9.50029466e-01 9.02737807e-02 8.66520895e-02\n",
            "    9.61583259e-01]\n",
            "   [1.05493979e-01 9.89369361e-01 7.98097447e-01 4.32953314e-01\n",
            "    1.73234265e-01]\n",
            "   [4.16648729e-01 2.25223629e-01 3.98502727e-01 7.50209661e-01\n",
            "    4.24744385e-01]\n",
            "   [5.87587967e-02 9.29467376e-02 2.38567538e-02 5.77464786e-01\n",
            "    7.08463214e-01]]\n",
            "\n",
            "  [[5.08076337e-01 9.80443185e-01 6.68667121e-01 3.40060350e-02\n",
            "    2.30100494e-01]\n",
            "   [6.90372898e-01 2.41845282e-01 6.69572898e-01 4.80027961e-04\n",
            "    9.87374893e-01]\n",
            "   [9.89923203e-01 5.95663241e-01 5.97753349e-02 8.91129599e-01\n",
            "    7.79679472e-01]\n",
            "   [7.50973954e-01 2.74922717e-01 6.70094353e-01 9.83749689e-01\n",
            "    9.66992073e-01]]]\n",
            "\n",
            "\n",
            " [[[4.79912580e-01 5.65386081e-01 8.57751077e-01 2.61515417e-01\n",
            "    7.05087303e-02]\n",
            "   [7.78387986e-01 1.96440167e-01 7.57070540e-01 9.60800484e-01\n",
            "    1.13407051e-01]\n",
            "   [9.05232942e-01 6.97139027e-01 4.25288436e-01 8.20488750e-01\n",
            "    8.18633162e-01]\n",
            "   [1.16274558e-01 8.47730831e-01 2.46417198e-01 9.66314047e-01\n",
            "    2.85031564e-01]]\n",
            "\n",
            "  [[4.69616490e-01 1.66938031e-01 2.42834175e-01 1.66829344e-01\n",
            "    5.73089429e-02]\n",
            "   [3.75906716e-01 9.92024708e-01 2.53182903e-01 7.76706871e-01\n",
            "    6.59172788e-01]\n",
            "   [8.69074839e-01 4.65939545e-01 5.41354433e-01 2.16769479e-01\n",
            "    6.60238423e-01]\n",
            "   [2.42997495e-01 2.65569216e-01 3.08546499e-01 7.06057009e-01\n",
            "    4.05761222e-01]]\n",
            "\n",
            "  [[5.61308681e-01 3.95664007e-01 6.65939672e-01 8.00197892e-01\n",
            "    6.36267785e-01]\n",
            "   [9.50668467e-01 9.30998970e-01 2.17734881e-01 3.75791242e-01\n",
            "    2.62533230e-01]\n",
            "   [2.60481322e-01 1.01309695e-01 8.43660116e-01 6.05397964e-01\n",
            "    9.23231994e-01]\n",
            "   [1.46156081e-01 1.08343990e-01 6.28437852e-01 9.92190374e-01\n",
            "    3.62406614e-01]]]]\n",
            "mean [[[0.65359631 0.75290539 0.26074304 0.22959317 0.40648197]\n",
            "  [0.5611384  0.51147785 0.61467628 0.35380118 0.63858116]\n",
            "  [0.5559175  0.58349288 0.22936971 0.67815967 0.45419435]\n",
            "  [0.45059316 0.19176623 0.33236711 0.7203282  0.64320217]]\n",
            "\n",
            " [[0.50361258 0.37599604 0.58884164 0.40951422 0.25469515]\n",
            "  [0.70165439 0.70648795 0.40932944 0.70443287 0.34503769]\n",
            "  [0.67826303 0.42146276 0.60343433 0.54755206 0.80070119]\n",
            "  [0.16847604 0.40721468 0.39446718 0.88818714 0.35106647]]]\n"
          ]
        }
      ],
      "source": [
        "a=np.random.rand(2,3,4,5)\n",
        "print(a)\n",
        "#calculate mean\n",
        "print(\"mean\",a.mean(axis=1))"
      ]
    },
    {
      "cell_type": "markdown",
      "id": "9d4cd387-ca18-4951-a1ab-63a7a1f80a0d",
      "metadata": {
        "id": "9d4cd387-ca18-4951-a1ab-63a7a1f80a0d"
      },
      "source": [
        "# Q4"
      ]
    },
    {
      "cell_type": "markdown",
      "id": "768891f0-dd85-4a6b-a336-31061a30945f",
      "metadata": {
        "id": "768891f0-dd85-4a6b-a336-31061a30945f"
      },
      "source": [
        "Statement: You have collected data from a temperature sensor placed at different locations over a period of time. The recorded temperatures are stored in a 3D NumPy array temps of shape (7, 24, 60), where the dimensions represent the number of days, hours in a day, and minutes in an hour, respectively. Write a code snippet to calculate the average temperature for each day.\n",
        "\n",
        "Sample Input:"
      ]
    },
    {
      "cell_type": "code",
      "execution_count": 26,
      "id": "905df96f-ee7f-410f-adae-88758871af96",
      "metadata": {
        "id": "905df96f-ee7f-410f-adae-88758871af96",
        "colab": {
          "base_uri": "https://localhost:8080/"
        },
        "outputId": "c346df75-5d2d-4a55-ff1e-8be0dac5f104"
      },
      "outputs": [
        {
          "output_type": "execute_result",
          "data": {
            "text/plain": [
              "array([0.50865295, 0.49715859, 0.50025614, 0.50337984, 0.50652579,\n",
              "       0.51132591, 0.48926189])"
            ]
          },
          "metadata": {},
          "execution_count": 26
        }
      ],
      "source": [
        "a=np.random.rand(7,24,60)\n",
        "a\n",
        "\n",
        "b=a.mean(axis=(1,2))\n",
        "b"
      ]
    },
    {
      "cell_type": "markdown",
      "id": "f8913844-39a1-4d9b-a434-7af478336f20",
      "metadata": {
        "id": "f8913844-39a1-4d9b-a434-7af478336f20"
      },
      "source": [
        "Sample Output:\n",
        "\n",
        "array([27.43864059, 26.99643944, 27.10398301, 27.43854821, 26.81072977,\n",
        "       26.76581481, 27.07946152])"
      ]
    },
    {
      "cell_type": "markdown",
      "id": "55a224ca-01c9-4b13-8bc9-1db7269a35d5",
      "metadata": {
        "id": "55a224ca-01c9-4b13-8bc9-1db7269a35d5"
      },
      "source": [
        "# Q5"
      ]
    },
    {
      "cell_type": "markdown",
      "id": "af5efd9b-ff4f-4ae1-af9a-da9bf621d3bd",
      "metadata": {
        "id": "af5efd9b-ff4f-4ae1-af9a-da9bf621d3bd"
      },
      "source": [
        "Statement: You have collected data from multiple sensors placed in different rooms of a building. The sensor readings are stored in a 4D NumPy array readings of shape (4, 7, 24, 60), where the dimensions represent the number of sensors, number of days, hours in a day, and minutes in an hour, respectively. Write a code snippet to calculate the maximum reading for each sensor across all days."
      ]
    },
    {
      "cell_type": "code",
      "execution_count": 27,
      "id": "79873e69-35ad-4bde-ba48-cf33218b1dc2",
      "metadata": {
        "id": "79873e69-35ad-4bde-ba48-cf33218b1dc2",
        "colab": {
          "base_uri": "https://localhost:8080/"
        },
        "outputId": "877be2c9-ee6b-4ea3-fafe-753536949494"
      },
      "outputs": [
        {
          "output_type": "execute_result",
          "data": {
            "text/plain": [
              "array([[0.49352816, 0.49730824, 0.50356409, 0.48344765, 0.5132326 ,\n",
              "        0.49389137, 0.50025889],\n",
              "       [0.50311712, 0.49436332, 0.49966599, 0.49054263, 0.49746335,\n",
              "        0.49631803, 0.49049569],\n",
              "       [0.49809048, 0.50980795, 0.50441371, 0.49858594, 0.49537717,\n",
              "        0.49480888, 0.50007205],\n",
              "       [0.49359175, 0.49066116, 0.50981521, 0.51676873, 0.49545956,\n",
              "        0.49854243, 0.49212495]])"
            ]
          },
          "metadata": {},
          "execution_count": 27
        }
      ],
      "source": [
        "a=np.random.rand(4,7,24,60)\n",
        "a\n",
        "\n",
        "b=a.mean(axis=(2,3))\n",
        "b"
      ]
    },
    {
      "cell_type": "markdown",
      "id": "e8ca2836-0977-4b11-a214-a93630131927",
      "metadata": {
        "id": "e8ca2836-0977-4b11-a214-a93630131927"
      },
      "source": [
        "# Q6"
      ]
    },
    {
      "cell_type": "markdown",
      "id": "b324cb33-b481-4cf8-a148-9292ec382a8c",
      "metadata": {
        "id": "b324cb33-b481-4cf8-a148-9292ec382a8c"
      },
      "source": [
        "Statement: You have collected data from a 3D printer that measures the dimensions of printed objects. The recorded dimensions are stored in a 3D NumPy array dimensions of shape (100, 50, 3), where the dimensions represent the number of printed objects, number of measurements for each object, and the three dimensions (length, width, height), respectively. Write a code snippet to calculate the average length, width, and height across all objects.\n",
        "\n",
        "Sample Inpumt:"
      ]
    },
    {
      "cell_type": "code",
      "execution_count": 28,
      "id": "d1199cf1-5f47-45f5-a090-615021490d8e",
      "metadata": {
        "id": "d1199cf1-5f47-45f5-a090-615021490d8e",
        "colab": {
          "base_uri": "https://localhost:8080/"
        },
        "outputId": "6eb7d9ce-6b4b-4569-964f-a8849f637369"
      },
      "outputs": [
        {
          "output_type": "stream",
          "name": "stdout",
          "text": [
            "Average Length: 0.50\n",
            "Average Width: 0.50\n",
            "Average Height: 0.50\n"
          ]
        }
      ],
      "source": [
        "dimensions = np.random.rand(100, 50, 3)\n",
        "\n",
        "# Calculate average for each dimension across all objects\n",
        "average_length = np.mean(dimensions[:, :, 0])\n",
        "average_width = np.mean(dimensions[:, :, 1])\n",
        "average_height = np.mean(dimensions[:, :, 2])\n",
        "\n",
        "print(f\"Average Length: {average_length:.2f}\")\n",
        "print(f\"Average Width: {average_width:.2f}\")\n",
        "print(f\"Average Height: {average_height:.2f}\")\n"
      ]
    },
    {
      "cell_type": "markdown",
      "id": "a3c20cfa-7ad6-437b-8837-1eabded47ac7",
      "metadata": {
        "id": "a3c20cfa-7ad6-437b-8837-1eabded47ac7"
      },
      "source": [
        "# Q7"
      ]
    },
    {
      "cell_type": "markdown",
      "id": "c5c5e835-2d6d-4bec-a700-4125e2ea7375",
      "metadata": {
        "id": "c5c5e835-2d6d-4bec-a700-4125e2ea7375"
      },
      "source": [
        "Statement: You are given a 3D NumPy array data of shape (5, 6, 7) representing the sensor readings from multiple sensors placed in different locations over a period of time. Each sensor provides measurements at different time points. Write a code snippet to calculate the following statistics for each sensor:\n",
        "\n",
        "Total number of measurements\n",
        "\n",
        "Average measurement value\n",
        "\n",
        "Standard deviation of measurements\n",
        "\n",
        "Minimum measurement value\n",
        "\n",
        "Maximum measurement value\n",
        "\n",
        "Sample Input:"
      ]
    },
    {
      "cell_type": "code",
      "execution_count": 29,
      "id": "46256376-8395-460c-a736-71a83252e47f",
      "metadata": {
        "id": "46256376-8395-460c-a736-71a83252e47f",
        "colab": {
          "base_uri": "https://localhost:8080/"
        },
        "outputId": "9581fb87-998f-4a1a-8fe7-042a0216154e"
      },
      "outputs": [
        {
          "output_type": "execute_result",
          "data": {
            "text/plain": [
              "array([[[0.63039933, 0.93706201, 0.75936182, 0.384415  , 0.36831413,\n",
              "         0.43975651, 0.85203607],\n",
              "        [0.69407561, 0.35445133, 0.58830814, 0.92002703, 0.47542917,\n",
              "         0.47083218, 0.16726163],\n",
              "        [0.96315543, 0.03379069, 0.50952371, 0.04687357, 0.10079677,\n",
              "         0.70487797, 0.60786186],\n",
              "        [0.12804574, 0.43078644, 0.52087025, 0.09662167, 0.00114842,\n",
              "         0.15577438, 0.24348611],\n",
              "        [0.70353265, 0.67688438, 0.47654514, 0.90835163, 0.99478776,\n",
              "         0.55035291, 0.45611317],\n",
              "        [0.00734708, 0.60173793, 0.81839184, 0.48533799, 0.13449264,\n",
              "         0.87792   , 0.34227496]],\n",
              "\n",
              "       [[0.56195002, 0.71387233, 0.28074182, 0.55943039, 0.63106477,\n",
              "         0.54614938, 0.04825982],\n",
              "        [0.50021484, 0.6022633 , 0.98288553, 0.86504171, 0.86832724,\n",
              "         0.01650928, 0.45166839],\n",
              "        [0.3948194 , 0.34091775, 0.01012554, 0.50341731, 0.41387187,\n",
              "         0.64327752, 0.04465294],\n",
              "        [0.14560046, 0.83343912, 0.65588808, 0.86517583, 0.62360282,\n",
              "         0.90403746, 0.60252709],\n",
              "        [0.73681934, 0.76326668, 0.4147951 , 0.43619279, 0.00760815,\n",
              "         0.22178313, 0.09673066],\n",
              "        [0.23622299, 0.50183083, 0.52192502, 0.68491559, 0.35424827,\n",
              "         0.55549422, 0.03935061]],\n",
              "\n",
              "       [[0.64142667, 0.37696551, 0.86645841, 0.99638994, 0.16152756,\n",
              "         0.65032948, 0.91932327],\n",
              "        [0.56189412, 0.99932028, 0.0625928 , 0.29811214, 0.05504799,\n",
              "         0.86432032, 0.94795054],\n",
              "        [0.22528545, 0.3826623 , 0.46540395, 0.901237  , 0.58349745,\n",
              "         0.70198992, 0.60794524],\n",
              "        [0.94005074, 0.3068328 , 0.37943132, 0.02092094, 0.55873564,\n",
              "         0.1493141 , 0.12370296],\n",
              "        [0.74174543, 0.4493788 , 0.61710326, 0.92680678, 0.32609653,\n",
              "         0.87169723, 0.54141068],\n",
              "        [0.64868199, 0.75835027, 0.3523498 , 0.21404496, 0.3876571 ,\n",
              "         0.56345093, 0.17095717]],\n",
              "\n",
              "       [[0.19352822, 0.70596061, 0.50503538, 0.06362492, 0.65176933,\n",
              "         0.32812366, 0.43601547],\n",
              "        [0.60313824, 0.40861912, 0.98056942, 0.66792167, 0.4560481 ,\n",
              "         0.22029154, 0.80006662],\n",
              "        [0.34544188, 0.01200532, 0.19157943, 0.34073812, 0.87411025,\n",
              "         0.65116246, 0.14645533],\n",
              "        [0.08968413, 0.20467325, 0.6994072 , 0.4995794 , 0.20087561,\n",
              "         0.03789365, 0.01556287],\n",
              "        [0.49312976, 0.55537942, 0.00178567, 0.25760291, 0.3983755 ,\n",
              "         0.65949732, 0.25559989],\n",
              "        [0.19518361, 0.88377028, 0.60833492, 0.77678092, 0.25741528,\n",
              "         0.15341675, 0.83071123]],\n",
              "\n",
              "       [[0.74606551, 0.24756982, 0.46871921, 0.47102389, 0.78409646,\n",
              "         0.63018196, 0.3245174 ],\n",
              "        [0.30692178, 0.88129906, 0.25890869, 0.12366232, 0.21803609,\n",
              "         0.70954736, 0.82938695],\n",
              "        [0.29457902, 0.97444915, 0.45663608, 0.63720264, 0.19330015,\n",
              "         0.8189041 , 0.5736144 ],\n",
              "        [0.76725108, 0.27654506, 0.88463404, 0.82950666, 0.56556089,\n",
              "         0.37965765, 0.92916461],\n",
              "        [0.50554379, 0.28623374, 0.42901287, 0.40262228, 0.2558688 ,\n",
              "         0.88431473, 0.03039449],\n",
              "        [0.06582814, 0.90586354, 0.64017802, 0.27038848, 0.020697  ,\n",
              "         0.8585136 , 0.94022453]]])"
            ]
          },
          "metadata": {},
          "execution_count": 29
        }
      ],
      "source": [
        "array=np.random.rand(5,6,7)\n",
        "array"
      ]
    },
    {
      "cell_type": "code",
      "source": [
        "#Total number of measurements\n",
        "print(array.size)\n",
        "\n",
        "#Average measurement value\n",
        "print(array.mean(axis=(1,2)))\n",
        "\n",
        "#Standard deviation of measurements\n",
        "print(array.std(axis=(1,2)))\n",
        "\n",
        "#Minimum measurement value\n",
        "print(array.min(axis=(1,2)))\n",
        "\n",
        "#Maximum measurement value\n",
        "print(array.max(axis=(1,2)))"
      ],
      "metadata": {
        "colab": {
          "base_uri": "https://localhost:8080/"
        },
        "id": "Gr0vfp7gU16H",
        "outputId": "586bea91-b280-4c3f-f71d-7b61751771a9"
      },
      "id": "Gr0vfp7gU16H",
      "execution_count": 38,
      "outputs": [
        {
          "output_type": "stream",
          "name": "stdout",
          "text": [
            "210\n",
            "[0.49093841 0.48049799 0.53139047 0.42040154 0.52563395]\n",
            "[0.28950963 0.27221941 0.28876892 0.27130681 0.28355889]\n",
            "[0.00114842 0.00760815 0.02092094 0.00178567 0.020697  ]\n",
            "[0.99478776 0.98288553 0.99932028 0.98056942 0.97444915]\n"
          ]
        }
      ]
    },
    {
      "cell_type": "code",
      "source": [],
      "metadata": {
        "id": "kGI63yC6U14n"
      },
      "id": "kGI63yC6U14n",
      "execution_count": null,
      "outputs": []
    }
  ],
  "metadata": {
    "kernelspec": {
      "display_name": "Python 3 (ipykernel)",
      "language": "python",
      "name": "python3"
    },
    "language_info": {
      "codemirror_mode": {
        "name": "ipython",
        "version": 3
      },
      "file_extension": ".py",
      "mimetype": "text/x-python",
      "name": "python",
      "nbconvert_exporter": "python",
      "pygments_lexer": "ipython3",
      "version": "3.10.8"
    },
    "colab": {
      "provenance": []
    }
  },
  "nbformat": 4,
  "nbformat_minor": 5
}