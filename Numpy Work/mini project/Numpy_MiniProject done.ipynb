{
 "cells": [
  {
   "cell_type": "code",
   "execution_count": 2,
   "metadata": {
    "id": "QOepuiVEQmVL"
   },
   "outputs": [],
   "source": [
    "#import the required libraries\n",
    "import numpy as np"
   ]
  },
  {
   "cell_type": "markdown",
   "metadata": {
    "id": "XJJVjthYIz6w"
   },
   "source": [
    "# Step 1 : Read the Data!"
   ]
  },
  {
   "cell_type": "code",
   "execution_count": 4,
   "metadata": {
    "id": "7xcB2zo-O0t-"
   },
   "outputs": [],
   "source": [
    "#give path of the source-file and store that path in a variable named census\n",
    "census = \"makeSenseOfCensus.csv\""
   ]
  },
  {
   "cell_type": "markdown",
   "metadata": {
    "id": "OiSJcx6GLcWT"
   },
   "source": [
    "# Loading the data"
   ]
  },
  {
   "cell_type": "markdown",
   "metadata": {
    "id": "VxJZY3U1nsPN"
   },
   "source": [
    "You have studied getfromtext in Numpy Classes, now is the time to put it into action :) Below is the half completed code, you have to substitute values for delimiter and skip_header in it for hte data to be properly read into a Data array. The output of the array has been shared with you guys followed by the code block"
   ]
  },
  {
   "cell_type": "code",
   "execution_count": 250,
   "metadata": {
    "colab": {
     "base_uri": "https://localhost:8080/"
    },
    "id": "Fjx-kQkxQD7q",
    "outputId": "6b33c0b4-ce04-4e6c-cb47-3ee203f4322f"
   },
   "outputs": [
    {
     "name": "stdout",
     "output_type": "stream",
     "text": [
      "\n",
      "Data:\n",
      "\n",
      "  [[39. 13.  4. ...  0. 40.  0.]\n",
      " [50. 13.  4. ...  0. 13.  0.]\n",
      " [38.  9.  4. ...  0. 40.  0.]\n",
      " ...\n",
      " [48. 13.  4. ...  0. 58.  1.]\n",
      " [40. 10.  4. ...  0. 40.  0.]\n",
      " [39. 13.  4. ...  0. 50.  1.]]\n"
     ]
    }
   ],
   "source": [
    "data = np.genfromtxt(census , delimiter = \",\" , skip_header = 1 )\n",
    "print(\"\\nData:\\n\\n \", data)"
   ]
  },
  {
   "cell_type": "markdown",
   "metadata": {
    "id": "lLoQJxpdOCfA"
   },
   "source": [
    "# Printing the type of data"
   ]
  },
  {
   "cell_type": "code",
   "execution_count": 80,
   "metadata": {
    "colab": {
     "base_uri": "https://localhost:8080/"
    },
    "id": "xkPasCIhQ1qC",
    "outputId": "5c15ee56-e668-4338-d532-ceb6487adcf0"
   },
   "outputs": [
    {
     "data": {
      "text/plain": [
       "dtype('float64')"
      ]
     },
     "execution_count": 80,
     "metadata": {},
     "output_type": "execute_result"
    }
   ],
   "source": [
    "#print the type of data\n",
    "data.dtype"
   ]
  },
  {
   "cell_type": "markdown",
   "metadata": {
    "id": "QTSTCc7jVppG"
   },
   "source": [
    "# Step 2 : Append the Data"
   ]
  },
  {
   "cell_type": "markdown",
   "metadata": {
    "id": "-gz1eP4sfRpc"
   },
   "source": [
    "A new record [[50,9,4,1,0,0,40,0]] has been given to you. You are supposed to append this new record into the data using np.concatenate()"
   ]
  },
  {
   "cell_type": "code",
   "execution_count": 34,
   "metadata": {
    "id": "jokdR-EtS1dz"
   },
   "outputs": [],
   "source": [
    "new_record = [[50,9,4,1,0,0,40,0]]"
   ]
  },
  {
   "cell_type": "markdown",
   "metadata": {
    "id": "qVKX1_leVwqh"
   },
   "source": [
    "## Append 'new_record' (given) to 'data' using \"np.concatenate()\""
   ]
  },
  {
   "cell_type": "code",
   "execution_count": null,
   "metadata": {
    "id": "V38I3c5rTJPQ"
   },
   "outputs": [],
   "source": [
    "append = np.concatenate((data , new_record), axis = 0)"
   ]
  },
  {
   "cell_type": "code",
   "execution_count": 36,
   "metadata": {
    "colab": {
     "base_uri": "https://localhost:8080/"
    },
    "id": "QOWjaWI3TlP4",
    "outputId": "b87c4b40-64ac-4310-db00-99b1eaad2195"
   },
   "outputs": [
    {
     "data": {
      "text/plain": [
       "array([[39., 13.,  4., ...,  0., 40.,  0.],\n",
       "       [50., 13.,  4., ...,  0., 13.,  0.],\n",
       "       [38.,  9.,  4., ...,  0., 40.,  0.],\n",
       "       ...,\n",
       "       [40., 10.,  4., ...,  0., 40.,  0.],\n",
       "       [39., 13.,  4., ...,  0., 50.,  1.],\n",
       "       [50.,  9.,  4., ...,  0., 40.,  0.]])"
      ]
     },
     "execution_count": 36,
     "metadata": {},
     "output_type": "execute_result"
    }
   ],
   "source": [
    "#display after appending the new record at the end of the array.\n",
    "append"
   ]
  },
  {
   "cell_type": "markdown",
   "metadata": {
    "id": "i_5WAJWYWHpL"
   },
   "source": [
    "# Step 3 : Check if it's a young country or old country"
   ]
  },
  {
   "cell_type": "markdown",
   "metadata": {
    "id": "_CqLiA9OWQPm"
   },
   "source": [
    " Create a new array called 'age' by taking only age column(age is the column with index 0) of 'census' array."
   ]
  },
  {
   "cell_type": "code",
   "execution_count": 54,
   "metadata": {
    "id": "u-v0CJlJf8XA"
   },
   "outputs": [
    {
     "name": "stdout",
     "output_type": "stream",
     "text": [
      "[39. 50. 38. 53. 28. 37. 49. 52. 31. 42. 37. 30. 23. 32. 40. 34. 25. 32.\n",
      " 38. 43. 40. 54. 35. 43. 59. 56. 19. 54. 39. 49. 23. 20. 45. 30. 22. 48.\n",
      " 21. 19. 31. 48. 31. 53. 24. 49. 25. 57. 53. 44. 41. 29. 25. 18. 47. 50.\n",
      " 47. 43. 46. 35. 41. 30. 30. 32. 48. 42. 29. 36. 28. 53. 49. 25. 19. 31.\n",
      " 29. 23. 79. 27. 40. 67. 18. 31. 18. 52. 46. 59. 44. 53. 49. 33. 30. 43.\n",
      " 57. 37. 28. 30. 34. 29. 48. 37. 48. 32. 76. 44. 47. 20. 29. 32. 17. 30.\n",
      " 31. 42. 24. 38. 56. 28. 36. 53. 56. 49. 55. 22. 21. 40. 30. 29. 19. 47.\n",
      " 20. 31. 35. 39. 28. 24. 38. 37. 46. 38. 43. 27. 20. 49. 61. 27. 19. 45.\n",
      " 70. 31. 22. 36. 64. 43. 47. 34. 33. 21. 52. 48. 23. 71. 29. 42. 68. 25.\n",
      " 44. 28. 45. 36. 39. 46. 18. 66. 27. 28. 51. 27. 28. 27. 21. 34. 18. 33.\n",
      " 44. 43. 30. 40. 37. 34. 41. 53. 31. 58. 38. 24. 41. 47. 41. 23. 36. 40.\n",
      " 35. 24. 26. 19. 51. 42. 37. 18. 36. 35. 58. 17. 44. 37. 35. 60. 54. 37.\n",
      " 50. 38. 45. 25. 31. 64. 90. 54. 53. 18. 60. 66. 75. 65. 35. 41. 25. 33.\n",
      " 28. 59. 40. 41. 38. 23. 40. 41. 24. 20. 38. 56. 58. 32. 40. 45. 41. 42.\n",
      " 59. 19. 58. 42. 20. 32. 45. 50. 36. 45. 17. 59. 26. 37. 19. 64. 33. 33.\n",
      " 61. 17. 50. 27. 30. 43. 44. 35. 25. 24. 22. 42. 34. 60. 21. 57. 41. 50.\n",
      " 25. 50. 36. 31. 29. 21. 27. 65. 37. 39. 24. 38. 48. 21. 31. 55. 24. 43.\n",
      " 26. 46. 35. 41. 26. 34. 19. 36. 22. 24. 77. 22. 29. 62. 39. 43. 35. 29.\n",
      " 76. 63. 23. 43. 58. 66. 41. 26. 47. 55. 53. 17. 30. 49. 19. 45. 26. 38.\n",
      " 36. 33. 22. 43. 67. 30. 56. 31. 33. 26. 33. 46. 59. 38. 65. 40. 42. 26.\n",
      " 36. 62. 43. 43. 22. 28. 56. 22. 57. 39. 26. 17. 40. 45. 44. 20. 33. 23.\n",
      " 46. 38. 54. 46. 25. 46. 36. 23. 29. 44. 19. 19. 35. 27. 46. 34. 34. 44.\n",
      " 45. 20. 25. 52. 20. 28. 50. 34. 28. 41. 28. 46. 28. 32. 41. 24. 33. 46.\n",
      " 31. 35. 52. 30. 34. 34. 20. 17. 32. 29. 33. 25. 36. 23. 63. 47. 80. 17.\n",
      " 40. 30. 27. 33. 34. 34. 23. 42. 29. 45. 24. 44. 27. 20. 44. 51. 20. 17.\n",
      " 19. 45. 60. 42. 44. 40. 30. 38. 23. 32. 44. 54. 32. 50. 24. 37. 52. 38.\n",
      " 49. 30. 60. 22. 35. 30. 67. 46. 17. 22. 27. 23. 33. 43. 28. 41. 52. 25.\n",
      " 63. 59. 45. 38. 40. 46. 35. 34. 33. 41. 20. 23. 26. 72. 23. 62. 52. 58.\n",
      " 25. 24. 19. 43. 47. 39. 49. 53. 32. 34. 28. 57. 25. 20. 21. 34. 38. 50.\n",
      " 24. 37. 44. 28. 42. 74. 38. 44. 44. 26. 36. 41. 67. 39. 57. 29. 31. 34.\n",
      " 44. 29. 30. 27. 27. 32. 58. 35. 21. 28. 46. 36. 72. 35. 33. 69. 35. 31.\n",
      " 34. 30. 28. 54. 47. 24. 52. 20. 43. 45. 29. 47. 24. 51. 17. 37. 27. 29.\n",
      " 18. 36. 58. 26. 65. 57. 59. 27. 31. 21. 29. 18. 52. 57. 42. 55. 60. 31.\n",
      " 23. 27. 23. 42. 25. 49. 32. 19. 60. 42. 35. 48. 51. 29. 36. 17. 52. 24.\n",
      " 24. 26. 27. 39. 30. 50. 52. 46. 23. 45. 65. 29. 47. 30. 34. 38. 33. 49.\n",
      " 47. 49. 43. 30. 58. 19. 21. 33. 47. 52. 26. 60. 21. 36. 31. 50. 31. 71.\n",
      " 58. 30. 20. 24. 35. 38. 27. 29. 70. 34. 44. 43. 44. 35. 27. 43. 20. 42.\n",
      " 27. 42. 20. 24. 48. 17. 17. 33. 50. 22. 17. 32. 31. 58. 29. 37. 34. 23.\n",
      " 18. 34. 66. 45. 41. 26. 54. 24. 42. 20. 23. 25. 35. 31. 30. 19. 36. 31.\n",
      " 21. 31. 46. 44. 40. 45. 60. 18. 28. 36. 36. 40. 36. 31. 33. 19. 22. 34.\n",
      " 33. 41. 29. 50. 42. 43. 44. 20. 31. 65. 23. 55. 26. 25. 45. 35. 36. 43.\n",
      " 56. 42. 19. 55. 42. 26. 17. 42. 55. 32. 29. 46. 29. 22. 58. 23. 39. 27.\n",
      " 54. 33. 46. 37. 36. 59. 34. 53. 51. 32. 31. 22. 47. 32. 26. 37. 31. 37.\n",
      " 55. 23. 36. 34. 43. 54. 43. 28. 40. 41. 40. 42. 61. 18. 59. 21. 48. 41.\n",
      " 18. 23. 60. 22. 61. 25. 46. 43. 43. 24. 68. 31. 17. 32. 50. 33. 64. 20.\n",
      " 30. 22. 43. 22. 17. 47. 41. 56. 64. 47. 48. 31. 29. 30. 32. 57. 62. 39.\n",
      " 43. 24. 42. 53. 26. 73. 72. 55. 25. 41. 24. 63. 17. 35. 51. 62. 55. 43.\n",
      " 40. 37. 39. 31. 61. 26. 46. 26. 48. 34. 34. 59. 34. 49. 18. 43. 48. 28.\n",
      " 33. 24. 21. 17. 39. 29. 44. 24. 71. 51. 55. 41. 23. 38. 39. 19. 49. 32.\n",
      " 27. 38. 33. 63. 23. 33. 54. 29. 48. 35. 28. 37. 42. 40. 47. 22. 30. 28.\n",
      " 63. 51. 22. 27. 35. 46. 37. 24. 37. 53. 27. 38. 53. 34. 23. 39. 43. 67.\n",
      " 81. 21. 23. 25. 42. 38. 64. 32. 37. 51. 22. 33. 42. 19. 51. 23. 37. 37.\n",
      " 47. 41. 33. 31. 31. 35. 38. 18. 20. 54. 40. 36. 43. 44. 44. 43. 51. 18.\n",
      " 51. 41. 44. 33. 33. 42. 25. 32. 32. 36. 28. 20. 35. 55. 48. 36. 34. 28.\n",
      " 67. 37. 44. 25. 21. 40. 78. 34. 49. 22. 23. 60. 45. 63. 41. 47. 44. 51.\n",
      " 46. 41. 50. 47. 35. 56. 45. 48. 40. 39.]\n"
     ]
    }
   ],
   "source": [
    "age = data[:,0]\n",
    "print (age)"
   ]
  },
  {
   "cell_type": "markdown",
   "metadata": {
    "id": "_IyNXVKqWpPS"
   },
   "source": [
    "Find the max age and store it in a variable called 'max_age'.\n",
    "\n"
   ]
  },
  {
   "cell_type": "code",
   "execution_count": 64,
   "metadata": {
    "id": "tczhOTFif33u"
   },
   "outputs": [
    {
     "data": {
      "text/plain": [
       "90.0"
      ]
     },
     "execution_count": 64,
     "metadata": {},
     "output_type": "execute_result"
    }
   ],
   "source": [
    "#print the max_age\n",
    "max_age= age.max()\n",
    "max_age"
   ]
  },
  {
   "cell_type": "markdown",
   "metadata": {
    "id": "ywrTp3KTWu9z"
   },
   "source": [
    "Find the min age and store it in a variable called 'min_age'."
   ]
  },
  {
   "cell_type": "code",
   "execution_count": 66,
   "metadata": {
    "id": "QJ1VfCH7f0RG"
   },
   "outputs": [
    {
     "data": {
      "text/plain": [
       "17.0"
      ]
     },
     "execution_count": 66,
     "metadata": {},
     "output_type": "execute_result"
    }
   ],
   "source": [
    "#print the min_age\n",
    "min_age = age.min()\n",
    "min_age"
   ]
  },
  {
   "cell_type": "markdown",
   "metadata": {
    "id": "k6TqZMYQd8w1"
   },
   "source": [
    "Find the mean of the age and store it in a variable called 'age_mean'."
   ]
  },
  {
   "cell_type": "code",
   "execution_count": 68,
   "metadata": {
    "colab": {
     "base_uri": "https://localhost:8080/"
    },
    "id": "7dTC5eaIXs__",
    "outputId": "b23fff73-3d1f-4262-e556-9b755e1188af"
   },
   "outputs": [
    {
     "data": {
      "text/plain": [
       "38.051"
      ]
     },
     "execution_count": 68,
     "metadata": {},
     "output_type": "execute_result"
    }
   ],
   "source": [
    "#print the age_mean\n",
    "age_mean = age.mean()\n",
    "age_mean"
   ]
  },
  {
   "cell_type": "markdown",
   "metadata": {
    "id": "GEDv3kfSeF9p"
   },
   "source": [
    "Find the standard deviation of the age and store it in a variable called 'age_std'"
   ]
  },
  {
   "cell_type": "code",
   "execution_count": 72,
   "metadata": {
    "colab": {
     "base_uri": "https://localhost:8080/"
    },
    "id": "SF33E4XbX8Yi",
    "outputId": "5312cffe-2ef8-499c-e65a-93ee94c6b176"
   },
   "outputs": [
    {
     "data": {
      "text/plain": [
       "13.342803266180612"
      ]
     },
     "execution_count": 72,
     "metadata": {},
     "output_type": "execute_result"
    }
   ],
   "source": [
    "#print the age_std\n",
    "age_std = age.std()\n",
    "age_std"
   ]
  },
  {
   "cell_type": "markdown",
   "metadata": {
    "id": "zfJWcybQecKB"
   },
   "source": [
    "# Step 4: Let's check the country's race distribution to identify the minorities"
   ]
  },
  {
   "cell_type": "markdown",
   "metadata": {
    "id": "SrvNIFGvef4r"
   },
   "source": [
    "Create four different arrays by subsetting 'census' array by Race column(Race is the column with index 2) and save them in 'race_0','race_1', 'race_2', 'race_3' and 'race_4' respectively(Meaning: Store the array where 'race'column has value 0 in 'race_0', so on and so forth)"
   ]
  },
  {
   "cell_type": "code",
   "execution_count": 92,
   "metadata": {
    "colab": {
     "base_uri": "https://localhost:8080/"
    },
    "id": "2iaIx6n6YHPh",
    "outputId": "a540ec02-058f-4e3b-d050-087deff6de4a"
   },
   "outputs": [],
   "source": [
    "Race_column = data[:, 2]"
   ]
  },
  {
   "cell_type": "code",
   "execution_count": 264,
   "metadata": {
    "id": "OEz-yzfrYxFC"
   },
   "outputs": [
    {
     "name": "stdout",
     "output_type": "stream",
     "text": [
      "[[34.  4.  0.  1.  0.  0. 45.  0.]\n",
      " [35. 10.  0.  0.  0.  0. 40.  0.]\n",
      " [60.  6.  0.  0.  0.  0. 10.  0.]\n",
      " [51.  9.  0.  1.  0.  0. 40.  0.]\n",
      " [25. 10.  0.  0.  0.  0. 20.  0.]\n",
      " [20.  9.  0.  1.  0.  0. 48.  0.]\n",
      " [23. 10.  0.  0.  0.  0. 25.  0.]\n",
      " [29.  9.  0.  1.  0.  0. 40.  0.]\n",
      " [27. 12.  0.  1.  0.  0. 40.  0.]\n",
      " [31. 12.  0.  0.  0.  0. 40.  0.]]\n",
      "[[39. 13.  4. ...  0. 40.  0.]\n",
      " [50. 13.  4. ...  0. 13.  0.]\n",
      " [38.  9.  4. ...  0. 40.  0.]\n",
      " ...\n",
      " [48. 13.  4. ...  0. 58.  1.]\n",
      " [40. 10.  4. ...  0. 40.  0.]\n",
      " [39. 13.  4. ...  0. 50.  1.]]\n"
     ]
    }
   ],
   "source": [
    "race_0 = data[Race_column == 0]\n",
    "print(race_0)\n",
    "\n",
    "race_1 = data[Race_column == 1]\n",
    "\n",
    "race_2 = data[Race_column == 2]\n",
    "\n",
    "race_3 = data[Race_column == 3]\n",
    "\n",
    "race_4 = data[Race_column == 4]\n",
    "print(race_4)"
   ]
  },
  {
   "cell_type": "markdown",
   "metadata": {
    "id": "thg4wOEQeo1x"
   },
   "source": [
    "Store the length of the above created arrays in 'len_0', 'len_1','len_2', 'len_3' and 'len_4' respectively"
   ]
  },
  {
   "cell_type": "code",
   "execution_count": 106,
   "metadata": {
    "id": "6Nbz3CBkZHLY"
   },
   "outputs": [
    {
     "data": {
      "text/plain": [
       "10"
      ]
     },
     "execution_count": 106,
     "metadata": {},
     "output_type": "execute_result"
    }
   ],
   "source": [
    "#len_0\n",
    "len_0 = len(race_0)\n",
    "len_0"
   ]
  },
  {
   "cell_type": "code",
   "execution_count": 108,
   "metadata": {
    "id": "Zm0CnpfHaWQ7"
   },
   "outputs": [
    {
     "data": {
      "text/plain": [
       "27"
      ]
     },
     "execution_count": 108,
     "metadata": {},
     "output_type": "execute_result"
    }
   ],
   "source": [
    "#len_1\n",
    "len_1 = len(race_1)\n",
    "len_1"
   ]
  },
  {
   "cell_type": "code",
   "execution_count": 110,
   "metadata": {
    "id": "BmTApcJTab3j"
   },
   "outputs": [
    {
     "data": {
      "text/plain": [
       "110"
      ]
     },
     "execution_count": 110,
     "metadata": {},
     "output_type": "execute_result"
    }
   ],
   "source": [
    "#len_2\n",
    "len_2 = len(race_2)\n",
    "len_2"
   ]
  },
  {
   "cell_type": "code",
   "execution_count": 112,
   "metadata": {
    "id": "O-SEHnv9afoQ"
   },
   "outputs": [
    {
     "data": {
      "text/plain": [
       "6"
      ]
     },
     "execution_count": 112,
     "metadata": {},
     "output_type": "execute_result"
    }
   ],
   "source": [
    "#len_3\n",
    "len_3 = len(race_3)\n",
    "len_3"
   ]
  },
  {
   "cell_type": "code",
   "execution_count": 114,
   "metadata": {
    "id": "HksygZJFaogo"
   },
   "outputs": [
    {
     "data": {
      "text/plain": [
       "847"
      ]
     },
     "execution_count": 114,
     "metadata": {},
     "output_type": "execute_result"
    }
   ],
   "source": [
    "#len_4\n",
    "len_4 = len(race_4)\n",
    "len_4"
   ]
  },
  {
   "cell_type": "markdown",
   "metadata": {
    "id": "p57jTibJezYj"
   },
   "source": [
    "Find out which is the race with the minimum no. of citizens"
   ]
  },
  {
   "cell_type": "code",
   "execution_count": 156,
   "metadata": {},
   "outputs": [
    {
     "name": "stdout",
     "output_type": "stream",
     "text": [
      "race with the maximum no. of citizens: 4\n"
     ]
    }
   ],
   "source": [
    "#Find out which is the race with the maximum no. of citizens\n",
    "\n",
    "max_race = np.argmax([len_0 , len_1 , len_2 , len_3 , len_4])\n",
    "\n",
    "print (\"race with the maximum no. of citizens:\", max_race)"
   ]
  },
  {
   "cell_type": "markdown",
   "metadata": {
    "id": "yJVgGJLgfJcV"
   },
   "source": [
    "Find out which is the race with the minimum no. of citizens"
   ]
  },
  {
   "cell_type": "code",
   "execution_count": 144,
   "metadata": {
    "id": "LnvFjvidgdzb"
   },
   "outputs": [
    {
     "name": "stdout",
     "output_type": "stream",
     "text": [
      "race with the minimum no. of citizens: 3\n"
     ]
    }
   ],
   "source": [
    "min_race = np.argmin([len_0 , len_1 , len_2 , len_3 , len_4])\n",
    "\n",
    "print (\"race with the minimum no. of citizens:\", min_race)"
   ]
  },
  {
   "cell_type": "markdown",
   "metadata": {
    "id": "OJmzGHoZfSHv"
   },
   "source": [
    "Store the number associated with the minority race in a variable called 'minority_race'(For eg: if \"len(race_5)\" is the minimum, store 5 in 'minority_race' because that is the index of the race having the least no. of citizens )"
   ]
  },
  {
   "cell_type": "code",
   "execution_count": 152,
   "metadata": {
    "id": "xi96yzv9gmar"
   },
   "outputs": [
    {
     "name": "stdout",
     "output_type": "stream",
     "text": [
      "index of the race having the least no. of citizens: 3\n"
     ]
    }
   ],
   "source": [
    "minority_race = min_race\n",
    "print(\"index of the race having the least no. of citizens:\", minority_race)"
   ]
  },
  {
   "cell_type": "markdown",
   "metadata": {
    "id": "jrg7qCPZhwnu"
   },
   "source": [
    "Store the number associated with the minority race in a variable called 'minority_race'(For eg: if \"len(race_5)\" is the minimum, store 5 in 'minority_race' because that is the index of the race having the least no. of citizens )"
   ]
  },
  {
   "cell_type": "code",
   "execution_count": 158,
   "metadata": {
    "id": "A3IPB6qMgocF"
   },
   "outputs": [
    {
     "name": "stdout",
     "output_type": "stream",
     "text": [
      "index of the race having the maximum no. of citizens: 4\n"
     ]
    }
   ],
   "source": [
    "#maximum\n",
    "majority_race = max_race\n",
    "print(\"index of the race having the maximum no. of citizens:\", majority_race)"
   ]
  },
  {
   "cell_type": "markdown",
   "metadata": {
    "id": "E1Rwgqxf9F9V"
   },
   "source": [
    "# Step 5: As per govt. records citizens above 60 should not work more than 25 hours a week. Let us check if the policy is in place"
   ]
  },
  {
   "cell_type": "markdown",
   "metadata": {
    "id": "XT4Jy_Wn9Vww"
   },
   "source": [
    "a.Create a new subset array called 'senior_citizens' by filtering 'census' according to age>60 (age is the column with index 0)"
   ]
  },
  {
   "cell_type": "markdown",
   "metadata": {
    "id": "6AEHuxcS-uGh"
   },
   "source": [
    "[Row,Columns]  :"
   ]
  },
  {
   "cell_type": "code",
   "execution_count": 224,
   "metadata": {
    "colab": {
     "base_uri": "https://localhost:8080/"
    },
    "id": "oX6E5VZv9Z4j",
    "outputId": "cc545ce0-84fe-4e14-a8b5-9ce2beb20729"
   },
   "outputs": [
    {
     "name": "stdout",
     "output_type": "stream",
     "text": [
      "[[7.9000e+01 1.0000e+01 4.0000e+00 1.0000e+00 0.0000e+00 0.0000e+00\n",
      "  2.0000e+01 0.0000e+00]\n",
      " [6.7000e+01 6.0000e+00 4.0000e+00 1.0000e+00 0.0000e+00 0.0000e+00\n",
      "  2.0000e+00 0.0000e+00]\n",
      " [7.6000e+01 1.4000e+01 4.0000e+00 1.0000e+00 0.0000e+00 0.0000e+00\n",
      "  4.0000e+01 1.0000e+00]\n",
      " [6.1000e+01 9.0000e+00 4.0000e+00 1.0000e+00 0.0000e+00 0.0000e+00\n",
      "  4.0000e+01 0.0000e+00]\n",
      " [7.0000e+01 1.0000e+01 4.0000e+00 1.0000e+00 0.0000e+00 0.0000e+00\n",
      "  4.0000e+01 0.0000e+00]\n",
      " [6.4000e+01 7.0000e+00 4.0000e+00 1.0000e+00 0.0000e+00 2.1790e+03\n",
      "  4.0000e+01 0.0000e+00]\n",
      " [7.1000e+01 1.0000e+01 2.0000e+00 1.0000e+00 0.0000e+00 1.8160e+03\n",
      "  2.0000e+00 0.0000e+00]\n",
      " [6.8000e+01 2.0000e+00 4.0000e+00 0.0000e+00 0.0000e+00 0.0000e+00\n",
      "  2.0000e+01 0.0000e+00]\n",
      " [6.6000e+01 1.1000e+01 4.0000e+00 0.0000e+00 0.0000e+00 0.0000e+00\n",
      "  2.0000e+01 0.0000e+00]\n",
      " [6.4000e+01 2.0000e+00 4.0000e+00 1.0000e+00 0.0000e+00 0.0000e+00\n",
      "  4.0000e+01 0.0000e+00]\n",
      " [9.0000e+01 9.0000e+00 2.0000e+00 1.0000e+00 0.0000e+00 2.2060e+03\n",
      "  4.0000e+01 0.0000e+00]\n",
      " [6.6000e+01 9.0000e+00 4.0000e+00 1.0000e+00 1.4090e+03 0.0000e+00\n",
      "  5.0000e+01 0.0000e+00]\n",
      " [7.5000e+01 1.1000e+01 4.0000e+00 0.0000e+00 0.0000e+00 0.0000e+00\n",
      "  2.0000e+01 0.0000e+00]\n",
      " [6.5000e+01 9.0000e+00 4.0000e+00 0.0000e+00 0.0000e+00 0.0000e+00\n",
      "  4.0000e+01 0.0000e+00]\n",
      " [6.4000e+01 9.0000e+00 4.0000e+00 1.0000e+00 0.0000e+00 0.0000e+00\n",
      "  4.0000e+01 1.0000e+00]\n",
      " [6.1000e+01 9.0000e+00 4.0000e+00 1.0000e+00 0.0000e+00 0.0000e+00\n",
      "  4.0000e+01 1.0000e+00]\n",
      " [6.5000e+01 9.0000e+00 4.0000e+00 1.0000e+00 0.0000e+00 0.0000e+00\n",
      "  1.6000e+01 0.0000e+00]\n",
      " [7.7000e+01 1.0000e+01 4.0000e+00 1.0000e+00 0.0000e+00 0.0000e+00\n",
      "  4.0000e+01 0.0000e+00]\n",
      " [6.2000e+01 9.0000e+00 4.0000e+00 0.0000e+00 0.0000e+00 0.0000e+00\n",
      "  2.4000e+01 0.0000e+00]\n",
      " [7.6000e+01 1.4000e+01 4.0000e+00 1.0000e+00 0.0000e+00 0.0000e+00\n",
      "  1.0000e+01 0.0000e+00]\n",
      " [6.3000e+01 9.0000e+00 4.0000e+00 1.0000e+00 0.0000e+00 0.0000e+00\n",
      "  4.5000e+01 0.0000e+00]\n",
      " [6.6000e+01 9.0000e+00 4.0000e+00 1.0000e+00 2.0500e+03 0.0000e+00\n",
      "  5.5000e+01 0.0000e+00]\n",
      " [6.7000e+01 7.0000e+00 4.0000e+00 1.0000e+00 0.0000e+00 0.0000e+00\n",
      "  8.0000e+00 0.0000e+00]\n",
      " [6.5000e+01 7.0000e+00 3.0000e+00 1.0000e+00 0.0000e+00 0.0000e+00\n",
      "  4.0000e+01 0.0000e+00]\n",
      " [6.2000e+01 1.4000e+01 4.0000e+00 1.0000e+00 0.0000e+00 0.0000e+00\n",
      "  4.0000e+01 1.0000e+00]\n",
      " [6.3000e+01 9.0000e+00 4.0000e+00 1.0000e+00 0.0000e+00 0.0000e+00\n",
      "  4.0000e+01 1.0000e+00]\n",
      " [8.0000e+01 9.0000e+00 4.0000e+00 1.0000e+00 0.0000e+00 0.0000e+00\n",
      "  2.4000e+01 0.0000e+00]\n",
      " [6.7000e+01 1.1000e+01 4.0000e+00 0.0000e+00 0.0000e+00 0.0000e+00\n",
      "  2.4000e+01 0.0000e+00]\n",
      " [6.3000e+01 2.0000e+00 4.0000e+00 1.0000e+00 0.0000e+00 0.0000e+00\n",
      "  3.5000e+01 0.0000e+00]\n",
      " [7.2000e+01 9.0000e+00 4.0000e+00 1.0000e+00 0.0000e+00 0.0000e+00\n",
      "  2.0000e+01 0.0000e+00]\n",
      " [6.2000e+01 9.0000e+00 4.0000e+00 1.0000e+00 0.0000e+00 0.0000e+00\n",
      "  4.0000e+01 0.0000e+00]\n",
      " [7.4000e+01 1.0000e+01 4.0000e+00 0.0000e+00 0.0000e+00 0.0000e+00\n",
      "  9.0000e+00 0.0000e+00]\n",
      " [6.7000e+01 1.5000e+01 4.0000e+00 1.0000e+00 2.0051e+04 0.0000e+00\n",
      "  4.8000e+01 1.0000e+00]\n",
      " [7.2000e+01 7.0000e+00 4.0000e+00 0.0000e+00 0.0000e+00 0.0000e+00\n",
      "  4.0000e+01 0.0000e+00]\n",
      " [6.9000e+01 7.0000e+00 4.0000e+00 0.0000e+00 0.0000e+00 0.0000e+00\n",
      "  4.0000e+01 0.0000e+00]\n",
      " [6.5000e+01 1.0000e+01 4.0000e+00 1.0000e+00 0.0000e+00 0.0000e+00\n",
      "  3.0000e+01 1.0000e+00]\n",
      " [6.5000e+01 5.0000e+00 2.0000e+00 0.0000e+00 0.0000e+00 0.0000e+00\n",
      "  2.4000e+01 0.0000e+00]\n",
      " [7.1000e+01 9.0000e+00 4.0000e+00 1.0000e+00 0.0000e+00 0.0000e+00\n",
      "  1.5000e+01 0.0000e+00]\n",
      " [7.0000e+01 5.0000e+00 4.0000e+00 0.0000e+00 1.1110e+03 0.0000e+00\n",
      "  1.5000e+01 0.0000e+00]\n",
      " [6.6000e+01 4.0000e+00 4.0000e+00 1.0000e+00 0.0000e+00 0.0000e+00\n",
      "  4.0000e+00 0.0000e+00]\n",
      " [6.5000e+01 7.0000e+00 4.0000e+00 1.0000e+00 9.3860e+03 0.0000e+00\n",
      "  5.9000e+01 1.0000e+00]\n",
      " [6.1000e+01 9.0000e+00 4.0000e+00 1.0000e+00 0.0000e+00 2.3520e+03\n",
      "  5.0000e+01 0.0000e+00]\n",
      " [6.1000e+01 9.0000e+00 4.0000e+00 1.0000e+00 0.0000e+00 0.0000e+00\n",
      "  4.0000e+01 0.0000e+00]\n",
      " [6.8000e+01 7.0000e+00 4.0000e+00 1.0000e+00 0.0000e+00 0.0000e+00\n",
      "  2.0000e+01 0.0000e+00]\n",
      " [6.4000e+01 1.3000e+01 4.0000e+00 1.0000e+00 0.0000e+00 0.0000e+00\n",
      "  4.0000e+01 1.0000e+00]\n",
      " [6.4000e+01 9.0000e+00 4.0000e+00 1.0000e+00 0.0000e+00 0.0000e+00\n",
      "  4.5000e+01 0.0000e+00]\n",
      " [6.2000e+01 9.0000e+00 4.0000e+00 0.0000e+00 0.0000e+00 0.0000e+00\n",
      "  4.0000e+01 0.0000e+00]\n",
      " [7.3000e+01 9.0000e+00 4.0000e+00 1.0000e+00 0.0000e+00 0.0000e+00\n",
      "  4.0000e+01 0.0000e+00]\n",
      " [7.2000e+01 7.0000e+00 4.0000e+00 0.0000e+00 0.0000e+00 0.0000e+00\n",
      "  2.4000e+01 0.0000e+00]\n",
      " [6.3000e+01 9.0000e+00 4.0000e+00 1.0000e+00 0.0000e+00 0.0000e+00\n",
      "  6.0000e+00 0.0000e+00]\n",
      " [6.2000e+01 1.3000e+01 4.0000e+00 0.0000e+00 0.0000e+00 0.0000e+00\n",
      "  4.8000e+01 0.0000e+00]\n",
      " [6.1000e+01 1.4000e+01 4.0000e+00 0.0000e+00 0.0000e+00 0.0000e+00\n",
      "  4.0000e+01 1.0000e+00]\n",
      " [7.1000e+01 1.4000e+01 4.0000e+00 1.0000e+00 1.0605e+04 0.0000e+00\n",
      "  4.0000e+01 1.0000e+00]\n",
      " [6.3000e+01 1.0000e+01 4.0000e+00 1.0000e+00 0.0000e+00 0.0000e+00\n",
      "  1.5000e+01 0.0000e+00]\n",
      " [6.3000e+01 4.0000e+00 4.0000e+00 1.0000e+00 0.0000e+00 0.0000e+00\n",
      "  5.5000e+01 0.0000e+00]\n",
      " [6.7000e+01 9.0000e+00 1.0000e+00 1.0000e+00 0.0000e+00 0.0000e+00\n",
      "  4.0000e+01 1.0000e+00]\n",
      " [8.1000e+01 9.0000e+00 4.0000e+00 1.0000e+00 0.0000e+00 0.0000e+00\n",
      "  3.0000e+01 0.0000e+00]\n",
      " [6.4000e+01 9.0000e+00 4.0000e+00 1.0000e+00 0.0000e+00 0.0000e+00\n",
      "  5.0000e+00 0.0000e+00]\n",
      " [6.7000e+01 1.3000e+01 4.0000e+00 1.0000e+00 0.0000e+00 2.3920e+03\n",
      "  4.0000e+01 1.0000e+00]\n",
      " [7.8000e+01 9.0000e+00 2.0000e+00 0.0000e+00 2.9640e+03 0.0000e+00\n",
      "  4.0000e+01 0.0000e+00]\n",
      " [6.3000e+01 1.1000e+01 4.0000e+00 0.0000e+00 0.0000e+00 0.0000e+00\n",
      "  2.0000e+01 0.0000e+00]]\n"
     ]
    }
   ],
   "source": [
    "#from age column, filter out age data > 60\n",
    "age = data[:,0]\n",
    "senior_citizen = data[age>60]\n",
    "print(senior_citizen)"
   ]
  },
  {
   "cell_type": "markdown",
   "metadata": {
    "id": "mDbsg8N0_K8b"
   },
   "source": [
    "b.Add all the working hours(working hours is the column with index 6) of 'senior_citizens' and store it in a variable called 'working_hours_sum'"
   ]
  },
  {
   "cell_type": "code",
   "execution_count": 226,
   "metadata": {
    "id": "fYZTR7EMgupn"
   },
   "outputs": [
    {
     "name": "stdout",
     "output_type": "stream",
     "text": [
      "1917.0\n"
     ]
    }
   ],
   "source": [
    "working_hours = senior_citizen[:,6]\n",
    "\n",
    "working_hours_sum = np.sum(working_hours)\n",
    "\n",
    "print(working_hours_sum)"
   ]
  },
  {
   "cell_type": "markdown",
   "metadata": {
    "id": "l4h6_8DfBD9x"
   },
   "source": [
    "c.Find the length of 'senior_citizens' and store it in a variable called 'senior_citizens_len'"
   ]
  },
  {
   "cell_type": "code",
   "execution_count": 228,
   "metadata": {
    "id": "pPExiV83gwaC"
   },
   "outputs": [
    {
     "name": "stdout",
     "output_type": "stream",
     "text": [
      "61\n"
     ]
    }
   ],
   "source": [
    "senior_citizens_len = len(senior_citizen)\n",
    "\n",
    "print(senior_citizens_len)"
   ]
  },
  {
   "cell_type": "markdown",
   "metadata": {
    "id": "-6mWgLiXBgAW"
   },
   "source": [
    "d. Finally find the average working hours of the senior citizens by dividing 'working_hours_sum' by 'senior_citizens_len' and store it in a variable called 'avg_working hours'."
   ]
  },
  {
   "cell_type": "code",
   "execution_count": 236,
   "metadata": {
    "id": "AOwajHabgy29"
   },
   "outputs": [],
   "source": [
    "avg_working_hours = working_hours_sum / senior_citizens_len"
   ]
  },
  {
   "cell_type": "markdown",
   "metadata": {
    "id": "VS382pv_CY1Q"
   },
   "source": [
    "e. Print 'avg_working_hours' and see if the govt. policy is followed."
   ]
  },
  {
   "cell_type": "code",
   "execution_count": 238,
   "metadata": {
    "id": "NatAJ4JBgzr4"
   },
   "outputs": [
    {
     "name": "stdout",
     "output_type": "stream",
     "text": [
      "31.42622950819672\n"
     ]
    }
   ],
   "source": [
    "print(avg_working_hours)"
   ]
  },
  {
   "cell_type": "markdown",
   "metadata": {
    "id": "KRGhpDBKEIa-"
   },
   "source": [
    "# Step 6: Let's check that higher educated people have better pay in general."
   ]
  },
  {
   "cell_type": "markdown",
   "metadata": {
    "id": "-5rc9FarELwP"
   },
   "source": [
    "Create two new subset arrays called 'high' and 'low' by filtering 'census' according to education-num>10 and education-num<=10 (education-num is the column with index 1) respectively.\n",
    "\n"
   ]
  },
  {
   "cell_type": "code",
   "execution_count": 242,
   "metadata": {
    "id": "GVA3Dgp5g2Ui"
   },
   "outputs": [
    {
     "name": "stdout",
     "output_type": "stream",
     "text": [
      "education_num [13. 13.  9.  7. 13. 14.  5.  9. 14. 13. 10. 13. 13. 12. 11.  4.  9.  9.\n",
      "  7. 14. 16.  9.  5.  7.  9. 13.  9. 10.  9.  9. 12. 10. 13. 10. 10.  7.\n",
      " 10.  9. 10. 12.  5. 13. 13.  9.  9. 13.  9. 14. 11. 11. 10.  9. 15. 13.\n",
      "  9. 10.  3. 11.  9.  9. 13.  4.  9. 16. 10.  9. 10.  9. 10. 10. 10. 13.\n",
      " 13. 10. 10.  9. 12.  6.  7.  4.  9. 13.  9.  9.  9.  9.  9. 14.  5. 16.\n",
      " 11. 10. 10.  9. 13. 10. 16. 10. 12.  9. 14. 13. 14. 10.  9.  9.  6.  7.\n",
      "  9.  9. 13. 15.  9. 10.  9.  5. 10. 11. 10.  9. 10. 13. 13. 13. 10. 13.\n",
      " 10. 12.  9. 10. 12.  9.  9. 13. 12. 14.  9. 11. 10. 10.  9. 10. 10. 11.\n",
      " 10.  9. 10.  9.  7. 10. 10.  9. 13.  9.  9.  9. 13. 10.  9. 13.  2.  9.\n",
      " 14.  9. 14. 10. 12. 14.  7. 11.  9.  9. 10. 13. 13.  9.  9.  9.  9. 13.\n",
      " 10. 10. 10.  4. 10.  9. 13. 13. 14. 16. 10. 10. 13. 10. 13.  3. 10. 14.\n",
      " 14.  9. 14.  9. 13. 10.  9.  7. 13.  9.  9.  7.  9.  9. 10.  9.  4. 13.\n",
      " 12. 13. 13.  6. 10.  2.  9.  9.  1.  9.  6.  9. 11.  9.  7.  9. 10. 10.\n",
      " 15.  9. 10. 13. 14.  9. 13.  9. 12. 10. 10.  9.  9.  9. 12.  9. 15. 13.\n",
      "  6. 10. 10.  9.  9.  9. 11.  4. 13.  9.  7. 10.  7. 10. 10.  9. 13.  9.\n",
      "  9.  5. 14. 14.  9.  9. 10. 10. 10. 10. 13. 10. 12. 13.  9. 14. 15. 10.\n",
      " 13.  4. 13.  9. 13. 10. 13.  9. 13. 14.  9.  9. 13. 10.  9.  9. 10.  9.\n",
      " 12. 12. 12. 10. 13. 14. 10. 13. 10. 10. 10.  3. 10.  9.  9. 10.  9.  7.\n",
      " 14.  9. 11. 10.  9.  9. 10. 13. 11.  6.  9.  3.  9. 14.  9.  9. 12. 11.\n",
      "  9.  9. 10. 13.  7. 11. 12. 13. 13.  9. 13.  7. 13.  9.  7. 11.  9.  5.\n",
      "  6. 14. 13. 13.  9.  9. 10. 12. 13.  9. 10.  7. 11.  9.  9. 10.  9. 10.\n",
      " 14.  9.  9.  3. 10. 10. 10.  9.  9. 10. 10.  9.  9. 13. 12. 13.  9. 10.\n",
      " 10.  9. 13. 13. 10. 10. 13. 11.  4. 14.  9.  9. 10. 10. 10.  9. 10. 16.\n",
      " 10.  8.  2.  7.  7.  9. 10.  7. 13.  9.  6.  9. 14.  9.  9. 14.  9.  7.\n",
      " 13. 12. 10. 14.  9. 10. 10. 10. 13.  9.  9. 10.  5. 10.  9.  9.  9.  7.\n",
      "  9. 10.  9. 12.  9. 11.  9. 10.  9. 10. 12.  9. 13.  2. 13.  9.  9. 10.\n",
      " 14. 13. 10. 10.  9.  9. 11. 13.  5. 10.  6.  9. 12. 10. 13.  9.  8. 10.\n",
      "  2.  9. 13. 13.  9.  9. 12.  9. 13.  9. 10.  3. 10.  9.  9.  9. 10. 10.\n",
      " 13. 13. 10. 10.  9.  9. 11.  3. 11. 10.  9. 11. 10. 10. 10. 13. 13.  9.\n",
      " 10. 10. 10. 10. 13. 10.  9. 14.  7.  9.  9. 12. 15.  8.  2. 11. 13.  9.\n",
      " 10. 16. 10.  9. 10.  9.  6. 10.  9. 10. 10.  9.  7.  9. 11.  7.  9.  9.\n",
      "  9.  7. 13. 13. 10.  9. 13.  9. 14.  4.  9. 14.  9.  9.  7. 11. 16. 13.\n",
      "  8. 12. 13. 10. 10.  9.  9.  9. 13. 10. 10.  7.  6. 13.  9.  9.  4. 13.\n",
      " 13.  9. 10. 15. 10. 13. 13. 10.  4.  5. 12.  9. 14.  9.  9.  6. 14.  9.\n",
      "  9. 13. 13.  9.  9.  9. 13. 15. 13.  7.  5. 11.  5.  9.  9.  9. 10. 13.\n",
      " 10.  6. 10. 13.  9.  9. 13. 13.  3. 16.  9.  9. 10. 10. 10. 16.  9.  9.\n",
      "  9. 13. 10.  9. 16. 10.  9. 10.  5.  9.  4.  9.  8. 14. 10. 14. 10. 12.\n",
      " 10.  9.  7.  5. 10.  7.  7. 13.  9.  9.  8. 10.  9.  9.  9. 11.  9. 10.\n",
      "  7.  9.  4. 13. 14.  9. 10. 10. 10. 10. 13. 12. 14. 14. 13.  9. 13. 13.\n",
      " 10. 10. 16. 13.  8. 10.  9.  7. 13. 10. 13. 11. 13.  9.  9.  9. 10. 13.\n",
      "  9.  9. 13.  9. 13. 13.  9. 10.  9.  7. 10. 10. 11. 11. 10. 10. 10. 13.\n",
      "  9. 13. 10.  9. 14. 11.  8. 13.  9. 10.  7. 13. 13. 13.  6.  9.  9. 11.\n",
      "  9. 13.  9.  9.  9.  9.  9. 16. 13.  6. 10. 10. 13.  9. 10.  3.  9. 11.\n",
      "  9. 11. 10. 14. 13. 10. 10. 11. 11. 10. 13. 10.  9.  8.  9.  9. 11. 13.\n",
      " 10.  9.  9. 10.  9.  9. 14. 13. 12.  9.  7.  9.  7.  9. 14. 13. 13.  9.\n",
      "  9. 10. 10. 10.  6.  9. 11. 10.  9.  9. 11. 14. 11.  9.  9.  9.  9.  9.\n",
      " 10. 13.  7. 10. 10.  9.  7.  9.  9. 13. 13.  9.  7. 10. 10. 13.  9. 10.\n",
      "  9. 13. 13.  9. 14. 11.  9. 13. 16.  9.  9.  9. 13. 13.  7.  9.  7. 10.\n",
      "  9. 10.  6.  7. 10. 13. 13. 10. 14. 13.  3. 13.  9. 11.  9.  9.  5. 13.\n",
      "  9. 13. 10. 10. 13. 10.  9. 11. 10. 13. 11. 13. 15. 14. 10. 13. 13.  9.\n",
      "  4.  5.  9. 12.  9.  9. 10. 13.  9. 10.  9. 10.  6. 10.  9. 13. 14.  9.\n",
      "  9. 10. 10. 10.  3. 10.  9.  9.  9. 14. 10.  2.  9. 10.  1.  9.  7.  9.\n",
      " 14. 15.  9. 13. 12.  9.  9.  9.  9. 10. 10. 13. 10. 10.  9. 14.  4.  9.\n",
      " 10.  6. 10.  6. 13. 12. 10.  9. 13.  6.  9.  9. 10.  9. 13. 11.  9. 13.\n",
      " 13.  9.  9. 10. 10. 14.  9.  9.  9. 12.  9.  9.  9. 11.  9.  9.  9. 10.\n",
      " 13. 11.  9.  9.  9.  9. 14. 13. 10. 13.]\n",
      "high [[39. 13.  4. ...  0. 40.  0.]\n",
      " [50. 13.  4. ...  0. 13.  0.]\n",
      " [28. 13.  2. ...  0. 40.  0.]\n",
      " ...\n",
      " [45. 14.  4. ...  0. 45.  0.]\n",
      " [48. 13.  4. ...  0. 58.  1.]\n",
      " [39. 13.  4. ...  0. 50.  1.]]\n",
      "low [[38.  9.  4. ...  0. 40.  0.]\n",
      " [53.  7.  2. ...  0. 40.  0.]\n",
      " [49.  5.  2. ...  0. 16.  0.]\n",
      " ...\n",
      " [35.  9.  4. ...  0. 45.  0.]\n",
      " [56.  9.  4. ...  0. 55.  1.]\n",
      " [40. 10.  4. ...  0. 40.  0.]]\n"
     ]
    }
   ],
   "source": [
    "education_num = data[:, 1]\n",
    "\n",
    "print(\"education_num\", education_num)\n",
    "\n",
    "high = data[education_num > 10 ]\n",
    "\n",
    "print(\"high\", high)\n",
    "\n",
    "low = data[education_num <= 10]\n",
    "\n",
    "print(\"low\", low)"
   ]
  },
  {
   "cell_type": "markdown",
   "metadata": {
    "id": "I4MwXFEbFEjV"
   },
   "source": [
    "Find the mean of income column(income is the column with index 7) of 'high' array and store it in 'avg_pay_high'. Do the same for 'low' array and store it's mean in 'avg_pay_low'."
   ]
  },
  {
   "cell_type": "code",
   "execution_count": 254,
   "metadata": {
    "colab": {
     "base_uri": "https://localhost:8080/"
    },
    "id": "aaHfrQd1FItV",
    "outputId": "8647ea5d-9b2f-4c74-e81c-2405c907f309"
   },
   "outputs": [
    {
     "name": "stdout",
     "output_type": "stream",
     "text": [
      "avg pay for high educated people is: 0.42813455657492355\n"
     ]
    }
   ],
   "source": [
    "income_column = high[:, 7]\n",
    "avg_pay_high = np.mean(income_column)\n",
    "\n",
    "print(\"avg pay for high educated people is:\", avg_pay_high)"
   ]
  },
  {
   "cell_type": "code",
   "execution_count": 256,
   "metadata": {
    "colab": {
     "base_uri": "https://localhost:8080/"
    },
    "id": "W4pJ8mhvHjlL",
    "outputId": "717875ad-efee-4549-ecc4-f883c94f561b"
   },
   "outputs": [
    {
     "name": "stdout",
     "output_type": "stream",
     "text": [
      "avg pay for low educated people is: 0.13670133729569092\n"
     ]
    }
   ],
   "source": [
    "income_column = low[:, 7]\n",
    "avg_pay_low = np.mean(income_column)\n",
    "\n",
    "print(\"avg pay for low educated people is:\", avg_pay_low)"
   ]
  },
  {
   "cell_type": "code",
   "execution_count": null,
   "metadata": {},
   "outputs": [],
   "source": []
  }
 ],
 "metadata": {
  "colab": {
   "provenance": []
  },
  "kernelspec": {
   "display_name": "Python 3 (ipykernel)",
   "language": "python",
   "name": "python3"
  },
  "language_info": {
   "codemirror_mode": {
    "name": "ipython",
    "version": 3
   },
   "file_extension": ".py",
   "mimetype": "text/x-python",
   "name": "python",
   "nbconvert_exporter": "python",
   "pygments_lexer": "ipython3",
   "version": "3.12.4"
  }
 },
 "nbformat": 4,
 "nbformat_minor": 4
}
